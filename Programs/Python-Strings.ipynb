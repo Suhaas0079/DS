{
 "cells": [
  {
   "cell_type": "markdown",
   "metadata": {},
   "source": [
    "# Strings\n",
    "\n",
    "Notes on strings:\n",
    "1. Strings are immutable\n",
    "2. Note that every string in Python takes additional 49-80 bytes of memory, where it stores supplementary information, such as hash, length, length in bytes, encoding type and string flags"
   ]
  },
  {
   "cell_type": "markdown",
   "metadata": {},
   "source": [
    "## Functions/Methods"
   ]
  },
  {
   "cell_type": "markdown",
   "metadata": {},
   "source": [
    "### len()"
   ]
  },
  {
   "cell_type": "code",
   "execution_count": 5,
   "metadata": {},
   "outputs": [
    {
     "name": "stdout",
     "output_type": "stream",
     "text": [
      "Hi Sai Suhaas G S \n",
      "No of letters in your name is 14\n"
     ]
    }
   ],
   "source": [
    "userName = input(\"Enter your name: \")\n",
    "\n",
    "print(\"Hi {} \\nNo of letters in your name is {}\".format(userName,len(userName)))"
   ]
  },
  {
   "cell_type": "markdown",
   "metadata": {},
   "source": [
    "### ord()"
   ]
  },
  {
   "cell_type": "code",
   "execution_count": 18,
   "metadata": {},
   "outputs": [
    {
     "name": "stdout",
     "output_type": "stream",
     "text": [
      "107\n"
     ]
    }
   ],
   "source": [
    "value = input(\"Enter a character: \")\n",
    "print(ord(value))"
   ]
  },
  {
   "cell_type": "markdown",
   "metadata": {},
   "source": [
    "### chr()"
   ]
  },
  {
   "cell_type": "code",
   "execution_count": 15,
   "metadata": {},
   "outputs": [
    {
     "name": "stdout",
     "output_type": "stream",
     "text": [
      "B\n"
     ]
    }
   ],
   "source": [
    "value = int(input(\"Enter a integer[ASCII value]: \"))\n",
    "print(chr(value))"
   ]
  },
  {
   "cell_type": "markdown",
   "metadata": {},
   "source": [
    "### capitalize()\n",
    "\n",
    "Notes: Capitalizez the first letter"
   ]
  },
  {
   "cell_type": "code",
   "execution_count": 23,
   "metadata": {},
   "outputs": [
    {
     "name": "stdout",
     "output_type": "stream",
     "text": [
      "Hi, my name is suhaas\n"
     ]
    }
   ],
   "source": [
    "value = \"hi, my name is suhaas\"\n",
    "print(value.capitalize())"
   ]
  },
  {
   "cell_type": "markdown",
   "metadata": {},
   "source": [
    "### title()\n",
    "\n",
    "Notes: Capitalizez the first letter of each word"
   ]
  },
  {
   "cell_type": "code",
   "execution_count": 24,
   "metadata": {},
   "outputs": [
    {
     "name": "stdout",
     "output_type": "stream",
     "text": [
      "Hi, My Name Is Suhaas\n"
     ]
    }
   ],
   "source": [
    "value = \"hi, my name is suhaas\"\n",
    "print(value.title())"
   ]
  },
  {
   "cell_type": "markdown",
   "metadata": {},
   "source": [
    "### upper()\n",
    "\n",
    "Note: Capitalizes all letters"
   ]
  },
  {
   "cell_type": "code",
   "execution_count": 26,
   "metadata": {},
   "outputs": [
    {
     "name": "stdout",
     "output_type": "stream",
     "text": [
      "HI, MY NAME IS SUHAAS\n"
     ]
    }
   ],
   "source": [
    "value = \"hi, my NAME is suhaas\"\n",
    "print(value.upper())"
   ]
  },
  {
   "cell_type": "markdown",
   "metadata": {},
   "source": [
    "### lower()\n",
    "\n",
    "Note: De-Capitalizes all letters"
   ]
  },
  {
   "cell_type": "code",
   "execution_count": 28,
   "metadata": {},
   "outputs": [
    {
     "name": "stdout",
     "output_type": "stream",
     "text": [
      "hi, my name is suhaas\n"
     ]
    }
   ],
   "source": [
    "value = \"hi, MY NAME is suhaas\"\n",
    "print(value.lower())"
   ]
  },
  {
   "cell_type": "markdown",
   "metadata": {},
   "source": [
    "### casefold()\n",
    "\n",
    "Note: aggresive form of lower()"
   ]
  },
  {
   "cell_type": "code",
   "execution_count": 29,
   "metadata": {},
   "outputs": [
    {
     "name": "stdout",
     "output_type": "stream",
     "text": [
      "Using lower(): ß\n",
      "Using casefold(): ss\n"
     ]
    }
   ],
   "source": [
    "value = \"ß\"\n",
    " \n",
    "print(\"Using lower():\", value.lower())\n",
    "print(\"Using casefold():\", value.casefold())"
   ]
  },
  {
   "cell_type": "markdown",
   "metadata": {},
   "source": [
    "### center()\n",
    "\n",
    "Syntax: string.center(string_length, padding_Character = \" \")\n",
    "\n",
    "Note: Adds padding of a character provided or space on either sides, given integer value is the max length of the string\n"
   ]
  },
  {
   "cell_type": "code",
   "execution_count": 39,
   "metadata": {},
   "outputs": [
    {
     "name": "stdout",
     "output_type": "stream",
     "text": [
      "After padding String is:           geeks for geeks\n",
      "Length: 25\n",
      "After padding String is: ############          geeks for geeks#############\n",
      "Length: 50\n",
      "After padding String is:                    geeks for geeks          \n",
      "Length: 44\n"
     ]
    }
   ],
   "source": [
    "value = \"          geeks for geeks\"\n",
    " \n",
    "# here fillchar is provided\n",
    "print(\"After padding String is:\", value.center(24, '#'))\n",
    "print(\"Length:\", len(value.center(24, '#')))\n",
    "print(\"After padding String is:\", value.center(50, '#'))\n",
    "print(\"Length:\", len(value.center(50, '#')))\n",
    "print(\"After padding String is:\", value.center(44))\n",
    "print(\"Length:\", len(value.center(44)))\n"
   ]
  },
  {
   "cell_type": "markdown",
   "metadata": {},
   "source": [
    "### count()\n",
    "\n",
    "Syntax: string.count(search_string, start_index = 0, end_index = len(string))\n",
    "\n",
    "Note: \n",
    "1. Finds the search string in the given string\n",
    "2. If string *not found* returns **-1**. \n",
    "3. *End index* is **excluded**.\n",
    "4. Case senitive"
   ]
  },
  {
   "cell_type": "code",
   "execution_count": 47,
   "metadata": {},
   "outputs": [
    {
     "name": "stdout",
     "output_type": "stream",
     "text": [
      "String 'my' in position:  2\n",
      "String 'hi' in position:  0\n",
      "String 'my' in position:  1\n"
     ]
    }
   ],
   "source": [
    "value = \"hi, my name is suhaas. my preferntial sport is badminton\"\n",
    "\n",
    "print(\"String 'my' in position: \", value.count(\"my\"))\n",
    "\n",
    "print(\"String 'hi' in position: \", value.count(\"hi\", 4))\n",
    "\n",
    "print(\"String 'my' in position: \", value.count(\"my\", 1, 6))"
   ]
  },
  {
   "cell_type": "markdown",
   "metadata": {},
   "source": [
    "### encode()\n",
    "\n",
    "Syntax: string.encode(encododing_type = 'utf-8', error = 'strict')"
   ]
  },
  {
   "cell_type": "code",
   "execution_count": 54,
   "metadata": {},
   "outputs": [
    {
     "name": "stdout",
     "output_type": "stream",
     "text": [
      "The available encodings are : \n",
      "dict_keys(['646', 'ansi_x3.4_1968', 'ansi_x3_4_1968', 'ansi_x3.4_1986', 'cp367', 'csascii', 'ibm367', 'iso646_us', 'iso_646.irv_1991', 'iso_ir_6', 'us', 'us_ascii', 'base64', 'base_64', 'big5_tw', 'csbig5', 'big5_hkscs', 'hkscs', 'bz2', '037', 'csibm037', 'ebcdic_cp_ca', 'ebcdic_cp_nl', 'ebcdic_cp_us', 'ebcdic_cp_wt', 'ibm037', 'ibm039', '1026', 'csibm1026', 'ibm1026', '1125', 'ibm1125', 'cp866u', 'ruscii', '1140', 'ibm1140', '1250', 'windows_1250', '1251', 'windows_1251', '1252', 'windows_1252', '1253', 'windows_1253', '1254', 'windows_1254', '1255', 'windows_1255', '1256', 'windows_1256', '1257', 'windows_1257', '1258', 'windows_1258', '273', 'ibm273', 'csibm273', '424', 'csibm424', 'ebcdic_cp_he', 'ibm424', '437', 'cspc8codepage437', 'ibm437', '500', 'csibm500', 'ebcdic_cp_be', 'ebcdic_cp_ch', 'ibm500', '775', 'cspc775baltic', 'ibm775', '850', 'cspc850multilingual', 'ibm850', '852', 'cspcp852', 'ibm852', '855', 'csibm855', 'ibm855', '857', 'csibm857', 'ibm857', '858', 'csibm858', 'ibm858', '860', 'csibm860', 'ibm860', '861', 'cp_is', 'csibm861', 'ibm861', '862', 'cspc862latinhebrew', 'ibm862', '863', 'csibm863', 'ibm863', '864', 'csibm864', 'ibm864', '865', 'csibm865', 'ibm865', '866', 'csibm866', 'ibm866', '869', 'cp_gr', 'csibm869', 'ibm869', '932', 'ms932', 'mskanji', 'ms_kanji', '949', 'ms949', 'uhc', '950', 'ms950', 'jisx0213', 'eucjis2004', 'euc_jis2004', 'eucjisx0213', 'eucjp', 'ujis', 'u_jis', 'euckr', 'korean', 'ksc5601', 'ks_c_5601', 'ks_c_5601_1987', 'ksx1001', 'ks_x_1001', 'gb18030_2000', 'chinese', 'csiso58gb231280', 'euc_cn', 'euccn', 'eucgb2312_cn', 'gb2312_1980', 'gb2312_80', 'iso_ir_58', '936', 'cp936', 'ms936', 'hex', 'roman8', 'r8', 'csHPRoman8', 'cp1051', 'ibm1051', 'hzgb', 'hz_gb', 'hz_gb_2312', 'csiso2022jp', 'iso2022jp', 'iso_2022_jp', 'iso2022jp_1', 'iso_2022_jp_1', 'iso2022jp_2', 'iso_2022_jp_2', 'iso_2022_jp_2004', 'iso2022jp_2004', 'iso2022jp_3', 'iso_2022_jp_3', 'iso2022jp_ext', 'iso_2022_jp_ext', 'csiso2022kr', 'iso2022kr', 'iso_2022_kr', 'csisolatin6', 'iso_8859_10', 'iso_8859_10_1992', 'iso_ir_157', 'l6', 'latin6', 'thai', 'iso_8859_11', 'iso_8859_11_2001', 'iso_8859_13', 'l7', 'latin7', 'iso_8859_14', 'iso_8859_14_1998', 'iso_celtic', 'iso_ir_199', 'l8', 'latin8', 'iso_8859_15', 'l9', 'latin9', 'iso_8859_16', 'iso_8859_16_2001', 'iso_ir_226', 'l10', 'latin10', 'csisolatin2', 'iso_8859_2', 'iso_8859_2_1987', 'iso_ir_101', 'l2', 'latin2', 'csisolatin3', 'iso_8859_3', 'iso_8859_3_1988', 'iso_ir_109', 'l3', 'latin3', 'csisolatin4', 'iso_8859_4', 'iso_8859_4_1988', 'iso_ir_110', 'l4', 'latin4', 'csisolatincyrillic', 'cyrillic', 'iso_8859_5', 'iso_8859_5_1988', 'iso_ir_144', 'arabic', 'asmo_708', 'csisolatinarabic', 'ecma_114', 'iso_8859_6', 'iso_8859_6_1987', 'iso_ir_127', 'csisolatingreek', 'ecma_118', 'elot_928', 'greek', 'greek8', 'iso_8859_7', 'iso_8859_7_1987', 'iso_ir_126', 'csisolatinhebrew', 'hebrew', 'iso_8859_8', 'iso_8859_8_1988', 'iso_ir_138', 'csisolatin5', 'iso_8859_9', 'iso_8859_9_1989', 'iso_ir_148', 'l5', 'latin5', 'cp1361', 'ms1361', 'cskoi8r', 'kz_1048', 'rk1048', 'strk1048_2002', '8859', 'cp819', 'csisolatin1', 'ibm819', 'iso8859', 'iso8859_1', 'iso_8859_1', 'iso_8859_1_1987', 'iso_ir_100', 'l1', 'latin', 'latin1', 'maccyrillic', 'macgreek', 'maciceland', 'maccentraleurope', 'mac_centeuro', 'maclatin2', 'macintosh', 'macroman', 'macturkish', 'ansi', 'dbcs', 'csptcp154', 'pt154', 'cp154', 'cyrillic_asian', 'quopri', 'quoted_printable', 'quotedprintable', 'rot13', 'csshiftjis', 'shiftjis', 'sjis', 's_jis', 'shiftjis2004', 'sjis_2004', 's_jis_2004', 'shiftjisx0213', 'sjisx0213', 's_jisx0213', 'tis620', 'tis_620_0', 'tis_620_2529_0', 'tis_620_2529_1', 'iso_ir_166', 'u16', 'utf16', 'unicodebigunmarked', 'utf_16be', 'unicodelittleunmarked', 'utf_16le', 'u32', 'utf32', 'utf_32be', 'utf_32le', 'u7', 'utf7', 'unicode_1_1_utf_7', 'u8', 'utf', 'utf8', 'utf8_ucs2', 'utf8_ucs4', 'cp65001', 'uu', 'zip', 'zlib', 'x_mac_japanese', 'x_mac_korean', 'x_mac_simp_chinese', 'x_mac_trad_chinese'])\n",
      "b'Hi, my name is Suhaas'\n",
      "b'Hi, my name is Suhaas\\xf0\\x9f\\x98\\x8a'\n"
     ]
    }
   ],
   "source": [
    "from encodings.aliases import aliases\n",
    " \n",
    "# Printing list available\n",
    "print(\"The available encodings are : \")\n",
    "print(aliases.keys())\n",
    "\n",
    "print((\"Hi, my name is Suhaas\").encode('utf-8', \"ignore\"))\n",
    "print((\"Hi, my name is Suhaas😊\").encode())"
   ]
  },
  {
   "cell_type": "markdown",
   "metadata": {},
   "source": [
    "### endswith()\n",
    "\n",
    "Syntax: string.endswith(search_string, start_index = 0, end_index = len(string))\n",
    "\n",
    "Note: \n",
    "1. Finds the search string in the end of given string\n",
    "3. *End index* is **excluded**.\n",
    "4. Case senitive"
   ]
  },
  {
   "cell_type": "code",
   "execution_count": 57,
   "metadata": {},
   "outputs": [
    {
     "name": "stdout",
     "output_type": "stream",
     "text": [
      "String 'suhaas' in position:  True\n",
      "String 'Suhaas' in position:  False\n",
      "String 'suhaas' in position:  True\n",
      "String 'my' in position:  True\n"
     ]
    }
   ],
   "source": [
    "value = \"hi, my name is suhaas\"\n",
    "\n",
    "print(\"String 'suhaas' in position: \", value.endswith(\"suhaas\"))\n",
    "\n",
    "print(\"String 'Suhaas' in position: \", value.endswith(\"Suhaas\"))\n",
    "\n",
    "print(\"String 'suhaas' in position: \", value.endswith(\"suhaas\", 4))\n",
    "\n",
    "print(\"String 'my' in position: \", value.endswith(\"my\", 1, 6))"
   ]
  },
  {
   "cell_type": "code",
   "execution_count": null,
   "metadata": {},
   "outputs": [],
   "source": []
  },
  {
   "cell_type": "markdown",
   "metadata": {},
   "source": [
    "### find()\n",
    "\n",
    "Syntax: string.count(search_string, start_index = 0, end_index = len(string))\n",
    "\n",
    "Note: Finds the search string in the given string, if string *not found* returns **-1**. *End index* is **excluded**."
   ]
  },
  {
   "cell_type": "code",
   "execution_count": null,
   "metadata": {},
   "outputs": [],
   "source": [
    "value = \"hi, my name is suhaas\"\n",
    "\n",
    "print(\"String 'my' in position: \", value.find(\"my\"))\n",
    "\n",
    "print(\"String 'hi' in position: \", value.find(\"hi\", 4))\n",
    "\n",
    "print(\"String 'my' in position: \", value.find(\"my\", 1, 6))"
   ]
  },
  {
   "cell_type": "markdown",
   "metadata": {},
   "source": [
    "## Slicing"
   ]
  },
  {
   "cell_type": "markdown",
   "metadata": {},
   "source": [
    "## Indexing"
   ]
  }
 ],
 "metadata": {
  "kernelspec": {
   "display_name": "Python 3",
   "language": "python",
   "name": "python3"
  },
  "language_info": {
   "codemirror_mode": {
    "name": "ipython",
    "version": 3
   },
   "file_extension": ".py",
   "mimetype": "text/x-python",
   "name": "python",
   "nbconvert_exporter": "python",
   "pygments_lexer": "ipython3",
   "version": "3.11.4"
  }
 },
 "nbformat": 4,
 "nbformat_minor": 2
}
