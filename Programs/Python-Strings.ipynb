{
 "cells": [
  {
   "cell_type": "markdown",
   "metadata": {},
   "source": [
    "**Table of contents**<a id='toc0_'></a>    \n",
    "- [Strings](#toc1_)    \n",
    "  - [Functions/Methods](#toc1_1_)    \n",
    "    - [capitalize()](#toc1_1_1_)    \n",
    "    - [chr()](#toc1_1_2_)    \n",
    "    - [ord()](#toc1_1_3_)    \n",
    "    - [title()](#toc1_1_4_)    \n",
    "    - [upper()](#toc1_1_5_)    \n",
    "    - [lower()](#toc1_1_6_)    \n",
    "    - [casefold()](#toc1_1_7_)    \n",
    "    - [swapcase()](#toc1_1_8_)    \n",
    "    - [center()](#toc1_1_9_)    \n",
    "    - [count()](#toc1_1_10_)    \n",
    "    - [len()](#toc1_1_11_)    \n",
    "    - [encode()](#toc1_1_12_)    \n",
    "    - [find()](#toc1_1_13_)    \n",
    "    - [index()](#toc1_1_14_)    \n",
    "    - [startswith()](#toc1_1_15_)    \n",
    "    - [endswith()](#toc1_1_16_)    \n",
    "    - [isalnum()](#toc1_1_17_)    \n",
    "    - [isalpha()](#toc1_1_18_)    \n",
    "    - [isdecimal()](#toc1_1_19_)    \n",
    "    - [isdigit()](#toc1_1_20_)    \n",
    "    - [isnumeric()](#toc1_1_21_)    \n",
    "    - [isascii()](#toc1_1_22_)    \n",
    "    - [isidentifier()](#toc1_1_23_)    \n",
    "    - [islower()](#toc1_1_24_)    \n",
    "    - [isupper()](#toc1_1_25_)    \n",
    "    - [join()](#toc1_1_26_)    \n",
    "    - [strip()](#toc1_1_27_)    \n",
    "    - [lstrip()](#toc1_1_28_)    \n",
    "    - [rstrip()](#toc1_1_29_)    \n",
    "    - [maketrans() and translate()](#toc1_1_30_)    \n",
    "    - [split()](#toc1_1_31_)    \n",
    "    - [partition()](#toc1_1_32_)    \n",
    "    - [rsplit()](#toc1_1_33_)    \n",
    "    - [replace()](#toc1_1_34_)    \n",
    "  - [Slicing](#toc1_2_)    \n",
    "  - [Indexing](#toc1_3_)    \n",
    "  - [String Library](#toc1_4_)    \n",
    "    - [punctuation](#toc1_4_1_)    \n",
    "    - [printable](#toc1_4_2_)    \n",
    "  - [Practice Programs](#toc1_5_)    \n",
    "    - [Write a Python program to reverse a string.](#toc1_5_1_)    \n",
    "    - [Write a Python program to check if a string is a palindrome.](#toc1_5_2_)    \n",
    "    - [Write a Python program to count the number of vowels in a string.](#toc1_5_3_)    \n",
    "\n",
    "<!-- vscode-jupyter-toc-config\n",
    "\tnumbering=false\n",
    "\tanchor=true\n",
    "\tflat=false\n",
    "\tminLevel=1\n",
    "\tmaxLevel=6\n",
    "\t/vscode-jupyter-toc-config -->\n",
    "<!-- THIS CELL WILL BE REPLACED ON TOC UPDATE. DO NOT WRITE YOUR TEXT IN THIS CELL -->"
   ]
  },
  {
   "cell_type": "markdown",
   "metadata": {},
   "source": [
    "# <a id='toc1_'></a>[Strings](#toc0_)\n",
    "\n",
    "Notes on strings:\n",
    "1. Strings are immutable\n",
    "2. Note that every string in Python takes additional 49-80 bytes of memory, where it stores supplementary information, such as hash, length, length in bytes, encoding type and string flags"
   ]
  },
  {
   "cell_type": "markdown",
   "metadata": {},
   "source": [
    "## <a id='toc1_1_'></a>[Functions/Methods](#toc0_)"
   ]
  },
  {
   "cell_type": "markdown",
   "metadata": {},
   "source": [
    "### <a id='toc1_1_2_'></a>[chr()](#toc0_)"
   ]
  },
  {
   "cell_type": "code",
   "execution_count": null,
   "metadata": {},
   "outputs": [
    {
     "name": "stdout",
     "output_type": "stream",
     "text": [
      "B\n"
     ]
    }
   ],
   "source": [
    "value = int(input(\"Enter a integer[ASCII value]: \"))\n",
    "print(chr(value))"
   ]
  },
  {
   "cell_type": "markdown",
   "metadata": {},
   "source": [
    "### <a id='toc1_1_3_'></a>[ord()](#toc0_)"
   ]
  },
  {
   "cell_type": "code",
   "execution_count": null,
   "metadata": {},
   "outputs": [
    {
     "name": "stdout",
     "output_type": "stream",
     "text": [
      "107\n"
     ]
    }
   ],
   "source": [
    "value = input(\"Enter a character: \")\n",
    "print(ord(value))"
   ]
  },
  {
   "cell_type": "markdown",
   "metadata": {},
   "source": [
    "### <a id='toc1_1_4_'></a>[title()](#toc0_)\n",
    "\n",
    "Notes: Capitalizez the first letter of each word"
   ]
  },
  {
   "cell_type": "code",
   "execution_count": 24,
   "metadata": {},
   "outputs": [
    {
     "name": "stdout",
     "output_type": "stream",
     "text": [
      "Hi, My Name Is Suhaas\n"
     ]
    }
   ],
   "source": [
    "value = \"hi, my name is suhaas\"\n",
    "print(value.title())"
   ]
  },
  {
   "cell_type": "markdown",
   "metadata": {},
   "source": [
    "### <a id='toc1_1_5_'></a>[upper()](#toc0_)\n",
    "\n",
    "Note: Capitalizes all letters"
   ]
  },
  {
   "cell_type": "code",
   "execution_count": 26,
   "metadata": {},
   "outputs": [
    {
     "name": "stdout",
     "output_type": "stream",
     "text": [
      "HI, MY NAME IS SUHAAS\n"
     ]
    }
   ],
   "source": [
    "value = \"hi, my NAME is suhaas\"\n",
    "print(value.upper())"
   ]
  },
  {
   "cell_type": "markdown",
   "metadata": {},
   "source": [
    "### <a id='toc1_1_6_'></a>[lower()](#toc0_)\n",
    "\n",
    "Note: De-Capitalizes all letters"
   ]
  },
  {
   "cell_type": "markdown",
   "metadata": {},
   "source": [
    "### <a id='toc1_1_1_'></a>[capitalize()](#toc0_)\n",
    "\n",
    "Notes: Capitalizez the first letter"
   ]
  },
  {
   "cell_type": "code",
   "execution_count": 28,
   "metadata": {},
   "outputs": [
    {
     "name": "stdout",
     "output_type": "stream",
     "text": [
      "hi, my name is suhaas\n"
     ]
    }
   ],
   "source": [
    "value = \"hi, MY NAME is suhaas\"\n",
    "print(value.lower())"
   ]
  },
  {
   "cell_type": "markdown",
   "metadata": {},
   "source": [
    "### <a id='toc1_1_7_'></a>[casefold()](#toc0_)\n",
    "\n",
    "Note: aggresive form of lower()"
   ]
  },
  {
   "cell_type": "markdown",
   "metadata": {},
   "source": [
    "### <a id='toc1_1_8_'></a>[swapcase()](#toc0_)"
   ]
  },
  {
   "cell_type": "code",
   "execution_count": null,
   "metadata": {},
   "outputs": [
    {
     "name": "stdout",
     "output_type": "stream",
     "text": [
      "Original String: hi, My naMe IS suHAas \n",
      "Case Swaped: HI, mY NAmE is SUhaAS\n"
     ]
    }
   ],
   "source": [
    "value = \"hi, My naMe IS suHAas\"\n",
    "\n",
    "print(f\"Original String: {value} \\nCase Swaped: {value.swapcase()}\")\n"
   ]
  },
  {
   "cell_type": "code",
   "execution_count": 29,
   "metadata": {},
   "outputs": [
    {
     "name": "stdout",
     "output_type": "stream",
     "text": [
      "Using lower(): ß\n",
      "Using casefold(): ss\n"
     ]
    }
   ],
   "source": [
    "value = \"ß\"\n",
    " \n",
    "print(\"Using lower():\", value.lower())\n",
    "print(\"Using casefold():\", value.casefold())"
   ]
  },
  {
   "cell_type": "markdown",
   "metadata": {},
   "source": [
    "### <a id='toc1_1_9_'></a>[center()](#toc0_)\n",
    "\n",
    "Syntax: string.center(string_length, padding_Character = \" \")\n",
    "\n",
    "Note: Adds padding of a character provided or space on either sides, given integer value is the max length of the string\n"
   ]
  },
  {
   "cell_type": "code",
   "execution_count": 39,
   "metadata": {},
   "outputs": [
    {
     "name": "stdout",
     "output_type": "stream",
     "text": [
      "After padding String is:           geeks for geeks\n",
      "Length: 25\n",
      "After padding String is: ############          geeks for geeks#############\n",
      "Length: 50\n",
      "After padding String is:                    geeks for geeks          \n",
      "Length: 44\n"
     ]
    }
   ],
   "source": [
    "value = \"          geeks for geeks\"\n",
    " \n",
    "# here fillchar is provided\n",
    "print(\"After padding String is:\", value.center(24, '#'))\n",
    "print(\"Length:\", len(value.center(24, '#')))\n",
    "print(\"After padding String is:\", value.center(50, '#'))\n",
    "print(\"Length:\", len(value.center(50, '#')))\n",
    "print(\"After padding String is:\", value.center(44))\n",
    "print(\"Length:\", len(value.center(44)))\n"
   ]
  },
  {
   "cell_type": "markdown",
   "metadata": {},
   "source": [
    "### <a id='toc1_1_10_'></a>[count()](#toc0_)\n",
    "\n",
    "Syntax: string.count(search_string, start_index = 0, end_index = len(string))\n",
    "\n",
    "Note: \n",
    "1. Finds the search string in the given string\n",
    "2. If string *not found* returns **-1**. \n",
    "3. *End index* is **excluded**.\n",
    "4. Case senitive"
   ]
  },
  {
   "cell_type": "markdown",
   "metadata": {},
   "source": [
    "### <a id='toc1_1_11_'></a>[len()](#toc0_)"
   ]
  },
  {
   "cell_type": "code",
   "execution_count": null,
   "metadata": {},
   "outputs": [
    {
     "name": "stdout",
     "output_type": "stream",
     "text": [
      "Hi Sai Suhaas G S \n",
      "No of letters in your name is 14\n"
     ]
    }
   ],
   "source": [
    "userName = input(\"Enter your name: \")\n",
    "\n",
    "print(\"Hi {} \\nNo of letters in your name is {}\".format(userName,len(userName)))"
   ]
  },
  {
   "cell_type": "code",
   "execution_count": null,
   "metadata": {},
   "outputs": [
    {
     "name": "stdout",
     "output_type": "stream",
     "text": [
      "Hi, my name is suhaas\n"
     ]
    }
   ],
   "source": [
    "value = \"hi, my name is suhaas\"\n",
    "print(value.capitalize())"
   ]
  },
  {
   "cell_type": "code",
   "execution_count": 47,
   "metadata": {},
   "outputs": [
    {
     "name": "stdout",
     "output_type": "stream",
     "text": [
      "String 'my' in position:  2\n",
      "String 'hi' in position:  0\n",
      "String 'my' in position:  1\n"
     ]
    }
   ],
   "source": [
    "value = \"hi, my name is suhaas. my preferntial sport is badminton\"\n",
    "\n",
    "print(\"String 'my' in position: \", value.count(\"my\"))\n",
    "\n",
    "print(\"String 'hi' in position: \", value.count(\"hi\", 4))\n",
    "\n",
    "print(\"String 'my' in position: \", value.count(\"my\", 1, 6))"
   ]
  },
  {
   "cell_type": "markdown",
   "metadata": {},
   "source": [
    "### <a id='toc1_1_12_'></a>[encode()](#toc0_)\n",
    "\n",
    "Syntax: string.encode(encododing_type = 'utf-8', error = 'strict')"
   ]
  },
  {
   "cell_type": "markdown",
   "metadata": {},
   "source": [
    "### <a id='toc1_1_13_'></a>[find()](#toc0_)\n",
    "\n",
    "Syntax: string.count(search_string, start_index = 0, end_index = len(string))\n",
    "\n",
    "Note: Finds the search string in the given string, if string *not found* returns **-1**. *End index* is **excluded**."
   ]
  },
  {
   "cell_type": "markdown",
   "metadata": {},
   "source": [
    "### <a id='toc1_1_14_'></a>[index()](#toc0_)\n",
    "\n",
    "Syntax: string.index(search_string, start_index = 0, end_index = len(string))\n",
    "\n",
    "Note: Returns the index of the first occurrence of the specified element in this list, or **error if not found**, unlike find() where it return -1.   "
   ]
  },
  {
   "cell_type": "code",
   "execution_count": null,
   "metadata": {},
   "outputs": [
    {
     "name": "stdout",
     "output_type": "stream",
     "text": [
      "'a' has occured first on 8 in 'hi, my name is suhaas'\n",
      "'a' has occured first on 18 in 'hi, my name is suhaas'\n",
      "'a' has occured first on 18 in 'hi, my name is suhaas'\n"
     ]
    }
   ],
   "source": [
    "value = \"hi, my name is suhaas\"\n",
    "\n",
    "print(f\"'a' has occured first on {value.index('a')} in '{value}'\")\n",
    "\n",
    "print(f\"'a' has occured first on {value.find('a', 10,len(value))} in '{value}'\")\n",
    "print(f\"'a' has occured first on {value.find('a', 10,-1)} in '{value}'\")"
   ]
  },
  {
   "cell_type": "code",
   "execution_count": 54,
   "metadata": {},
   "outputs": [
    {
     "name": "stdout",
     "output_type": "stream",
     "text": [
      "The available encodings are : \n",
      "dict_keys(['646', 'ansi_x3.4_1968', 'ansi_x3_4_1968', 'ansi_x3.4_1986', 'cp367', 'csascii', 'ibm367', 'iso646_us', 'iso_646.irv_1991', 'iso_ir_6', 'us', 'us_ascii', 'base64', 'base_64', 'big5_tw', 'csbig5', 'big5_hkscs', 'hkscs', 'bz2', '037', 'csibm037', 'ebcdic_cp_ca', 'ebcdic_cp_nl', 'ebcdic_cp_us', 'ebcdic_cp_wt', 'ibm037', 'ibm039', '1026', 'csibm1026', 'ibm1026', '1125', 'ibm1125', 'cp866u', 'ruscii', '1140', 'ibm1140', '1250', 'windows_1250', '1251', 'windows_1251', '1252', 'windows_1252', '1253', 'windows_1253', '1254', 'windows_1254', '1255', 'windows_1255', '1256', 'windows_1256', '1257', 'windows_1257', '1258', 'windows_1258', '273', 'ibm273', 'csibm273', '424', 'csibm424', 'ebcdic_cp_he', 'ibm424', '437', 'cspc8codepage437', 'ibm437', '500', 'csibm500', 'ebcdic_cp_be', 'ebcdic_cp_ch', 'ibm500', '775', 'cspc775baltic', 'ibm775', '850', 'cspc850multilingual', 'ibm850', '852', 'cspcp852', 'ibm852', '855', 'csibm855', 'ibm855', '857', 'csibm857', 'ibm857', '858', 'csibm858', 'ibm858', '860', 'csibm860', 'ibm860', '861', 'cp_is', 'csibm861', 'ibm861', '862', 'cspc862latinhebrew', 'ibm862', '863', 'csibm863', 'ibm863', '864', 'csibm864', 'ibm864', '865', 'csibm865', 'ibm865', '866', 'csibm866', 'ibm866', '869', 'cp_gr', 'csibm869', 'ibm869', '932', 'ms932', 'mskanji', 'ms_kanji', '949', 'ms949', 'uhc', '950', 'ms950', 'jisx0213', 'eucjis2004', 'euc_jis2004', 'eucjisx0213', 'eucjp', 'ujis', 'u_jis', 'euckr', 'korean', 'ksc5601', 'ks_c_5601', 'ks_c_5601_1987', 'ksx1001', 'ks_x_1001', 'gb18030_2000', 'chinese', 'csiso58gb231280', 'euc_cn', 'euccn', 'eucgb2312_cn', 'gb2312_1980', 'gb2312_80', 'iso_ir_58', '936', 'cp936', 'ms936', 'hex', 'roman8', 'r8', 'csHPRoman8', 'cp1051', 'ibm1051', 'hzgb', 'hz_gb', 'hz_gb_2312', 'csiso2022jp', 'iso2022jp', 'iso_2022_jp', 'iso2022jp_1', 'iso_2022_jp_1', 'iso2022jp_2', 'iso_2022_jp_2', 'iso_2022_jp_2004', 'iso2022jp_2004', 'iso2022jp_3', 'iso_2022_jp_3', 'iso2022jp_ext', 'iso_2022_jp_ext', 'csiso2022kr', 'iso2022kr', 'iso_2022_kr', 'csisolatin6', 'iso_8859_10', 'iso_8859_10_1992', 'iso_ir_157', 'l6', 'latin6', 'thai', 'iso_8859_11', 'iso_8859_11_2001', 'iso_8859_13', 'l7', 'latin7', 'iso_8859_14', 'iso_8859_14_1998', 'iso_celtic', 'iso_ir_199', 'l8', 'latin8', 'iso_8859_15', 'l9', 'latin9', 'iso_8859_16', 'iso_8859_16_2001', 'iso_ir_226', 'l10', 'latin10', 'csisolatin2', 'iso_8859_2', 'iso_8859_2_1987', 'iso_ir_101', 'l2', 'latin2', 'csisolatin3', 'iso_8859_3', 'iso_8859_3_1988', 'iso_ir_109', 'l3', 'latin3', 'csisolatin4', 'iso_8859_4', 'iso_8859_4_1988', 'iso_ir_110', 'l4', 'latin4', 'csisolatincyrillic', 'cyrillic', 'iso_8859_5', 'iso_8859_5_1988', 'iso_ir_144', 'arabic', 'asmo_708', 'csisolatinarabic', 'ecma_114', 'iso_8859_6', 'iso_8859_6_1987', 'iso_ir_127', 'csisolatingreek', 'ecma_118', 'elot_928', 'greek', 'greek8', 'iso_8859_7', 'iso_8859_7_1987', 'iso_ir_126', 'csisolatinhebrew', 'hebrew', 'iso_8859_8', 'iso_8859_8_1988', 'iso_ir_138', 'csisolatin5', 'iso_8859_9', 'iso_8859_9_1989', 'iso_ir_148', 'l5', 'latin5', 'cp1361', 'ms1361', 'cskoi8r', 'kz_1048', 'rk1048', 'strk1048_2002', '8859', 'cp819', 'csisolatin1', 'ibm819', 'iso8859', 'iso8859_1', 'iso_8859_1', 'iso_8859_1_1987', 'iso_ir_100', 'l1', 'latin', 'latin1', 'maccyrillic', 'macgreek', 'maciceland', 'maccentraleurope', 'mac_centeuro', 'maclatin2', 'macintosh', 'macroman', 'macturkish', 'ansi', 'dbcs', 'csptcp154', 'pt154', 'cp154', 'cyrillic_asian', 'quopri', 'quoted_printable', 'quotedprintable', 'rot13', 'csshiftjis', 'shiftjis', 'sjis', 's_jis', 'shiftjis2004', 'sjis_2004', 's_jis_2004', 'shiftjisx0213', 'sjisx0213', 's_jisx0213', 'tis620', 'tis_620_0', 'tis_620_2529_0', 'tis_620_2529_1', 'iso_ir_166', 'u16', 'utf16', 'unicodebigunmarked', 'utf_16be', 'unicodelittleunmarked', 'utf_16le', 'u32', 'utf32', 'utf_32be', 'utf_32le', 'u7', 'utf7', 'unicode_1_1_utf_7', 'u8', 'utf', 'utf8', 'utf8_ucs2', 'utf8_ucs4', 'cp65001', 'uu', 'zip', 'zlib', 'x_mac_japanese', 'x_mac_korean', 'x_mac_simp_chinese', 'x_mac_trad_chinese'])\n",
      "b'Hi, my name is Suhaas'\n",
      "b'Hi, my name is Suhaas\\xf0\\x9f\\x98\\x8a'\n"
     ]
    }
   ],
   "source": [
    "from encodings.aliases import aliases\n",
    " \n",
    "# Printing list available\n",
    "print(\"The available encodings are : \")\n",
    "print(aliases.keys())\n",
    "\n",
    "print((\"Hi, my name is Suhaas\").encode('utf-8', \"ignore\"))\n",
    "print((\"Hi, my name is Suhaas😊\").encode())"
   ]
  },
  {
   "cell_type": "markdown",
   "metadata": {},
   "source": [
    "### <a id='toc1_1_15_'></a>[startswith()](#toc0_)\n",
    "\n",
    "Syntax: string.startswith(search_string, start_index = 0, end_index = len(string))\n",
    "\n",
    "Note: \n",
    "1. Finds the search string in the start of given string\n",
    "3. *End index* is **excluded**.\n",
    "4. Case senitive"
   ]
  },
  {
   "cell_type": "code",
   "execution_count": 61,
   "metadata": {},
   "outputs": [
    {
     "name": "stdout",
     "output_type": "stream",
     "text": [
      "String 'suhaas' in position:  True\n",
      "String 'Suhaas' in position:  False\n",
      "String 'suhaas' in position:  False\n",
      "String 'my' in position:  True\n"
     ]
    }
   ],
   "source": [
    "value = \"hi, my name is suhaas\"\n",
    "\n",
    "print(\"String 'suhaas' in position: \", value.startswith(\"hi\"))\n",
    "\n",
    "print(\"String 'Suhaas' in position: \", value.startswith(\"Hi\"))\n",
    "\n",
    "print(\"String 'suhaas' in position: \", value.startswith(\"hi\", 4))\n",
    "\n",
    "print(\"String 'my' in position: \", value.startswith(\"my\", 4, 6))"
   ]
  },
  {
   "cell_type": "markdown",
   "metadata": {},
   "source": [
    "### <a id='toc1_1_16_'></a>[endswith()](#toc0_)\n",
    "\n",
    "Syntax: string.endswith(search_string, start_index = 0, end_index = len(string))\n",
    "\n",
    "Note: \n",
    "1. Finds the search string in the end of given string\n",
    "3. *End index* is **excluded**.\n",
    "4. Case senitive"
   ]
  },
  {
   "cell_type": "code",
   "execution_count": 57,
   "metadata": {},
   "outputs": [
    {
     "name": "stdout",
     "output_type": "stream",
     "text": [
      "String 'suhaas' in position:  True\n",
      "String 'Suhaas' in position:  False\n",
      "String 'suhaas' in position:  True\n",
      "String 'my' in position:  True\n"
     ]
    }
   ],
   "source": [
    "value = \"hi, my name is suhaas\"\n",
    "\n",
    "print(\"String 'suhaas' in position: \", value.endswith(\"suhaas\"))\n",
    "\n",
    "print(\"String 'Suhaas' in position: \", value.endswith(\"Suhaas\"))\n",
    "\n",
    "print(\"String 'suhaas' in position: \", value.endswith(\"suhaas\", 4))\n",
    "\n",
    "print(\"String 'my' in position: \", value.endswith(\"my\", 1, 6))"
   ]
  },
  {
   "cell_type": "code",
   "execution_count": 1,
   "metadata": {},
   "outputs": [
    {
     "name": "stdout",
     "output_type": "stream",
     "text": [
      "String 'my' in position:  4\n",
      "String 'hi' in position:  -1\n",
      "String 'my' in position:  4\n"
     ]
    }
   ],
   "source": [
    "value = \"hi, my name is suhaas\"\n",
    "\n",
    "print(\"String 'my' in position: \", value.find(\"my\"))\n",
    "\n",
    "print(\"String 'hi' in position: \", value.find(\"hi\", 4))\n",
    "\n",
    "print(\"String 'my' in position: \", value.find(\"my\", 1, 6))"
   ]
  },
  {
   "cell_type": "markdown",
   "metadata": {},
   "source": [
    "### <a id='toc1_1_17_'></a>[isalnum()](#toc0_)"
   ]
  },
  {
   "cell_type": "code",
   "execution_count": 6,
   "metadata": {},
   "outputs": [
    {
     "name": "stdout",
     "output_type": "stream",
     "text": [
      "Original String: HIMynaMeISsuHAas1234545 \n",
      "Is alpha numeric: True\n",
      "Original String: HIMynaMeISsuHAas \n",
      "Is alpha numeric: True\n",
      "Original String: 123456676543234 \n",
      "Is alpha numeric: True\n",
      "Original String: 1234566qeisahnjqwdnsx.!@!##$%^&76543234 \n",
      "Is alpha numeric: False\n"
     ]
    }
   ],
   "source": [
    "value = \"HIMynaMeISsuHAas1234545\"\n",
    "\n",
    "print(f\"Original String: {value} \\nIs alpha numeric: {value.isalnum()}\")\n",
    "\n",
    "value = \"HIMynaMeISsuHAas\"\n",
    "\n",
    "print(f\"Original String: {value} \\nIs alpha numeric: {value.isalnum()}\")\n",
    "\n",
    "value = \"123456676543234\"\n",
    "\n",
    "print(f\"Original String: {value} \\nIs alpha numeric: {value.isalnum()}\")\n",
    "\n",
    "value = \"1234566qeisahnjqwdnsx.!@!##$%^&76543234\"\n",
    "\n",
    "print(f\"Original String: {value} \\nIs alpha numeric: {value.isalnum()}\")\n"
   ]
  },
  {
   "cell_type": "markdown",
   "metadata": {},
   "source": [
    "### <a id='toc1_1_18_'></a>[isalpha()](#toc0_)"
   ]
  },
  {
   "cell_type": "code",
   "execution_count": 8,
   "metadata": {},
   "outputs": [
    {
     "name": "stdout",
     "output_type": "stream",
     "text": [
      "Original String: HIMynaMeISsuHAas1234545 \n",
      "Is alphabetical: False\n",
      "Original String: HIMynaMeISsuHAas \n",
      "Is alphabetical: True\n",
      "Original String: 123456676543234 \n",
      "Is alphabetical: False\n",
      "Original String: 1234566qeisahnjqwdnsx.!@!##$%^&76543234 \n",
      "Is alphabetical: False\n"
     ]
    }
   ],
   "source": [
    "value = \"HIMynaMeISsuHAas1234545\"\n",
    "\n",
    "print(f\"Original String: {value} \\nIs alphabetical: {value.isalpha()}\")\n",
    "\n",
    "value = \"HIMynaMeISsuHAas\"\n",
    "\n",
    "print(f\"Original String: {value} \\nIs alphabetical: {value.isalpha()}\")\n",
    "\n",
    "value = \"123456676543234\"\n",
    "\n",
    "print(f\"Original String: {value} \\nIs alphabetical: {value.isalpha()}\")\n",
    "\n",
    "value = \"1234566qeisahnjqwdnsx.!@!##$%^&76543234\"\n",
    "\n",
    "print(f\"Original String: {value} \\nIs alphabetical: {value.isalpha()}\")"
   ]
  },
  {
   "cell_type": "markdown",
   "metadata": {},
   "source": [
    "### <a id='toc1_1_19_'></a>[isdecimal()](#toc0_)\n",
    "\n",
    "Note:  All characters from 0-9 only (base 10), does not include fractions."
   ]
  },
  {
   "cell_type": "code",
   "execution_count": 11,
   "metadata": {},
   "outputs": [
    {
     "name": "stdout",
     "output_type": "stream",
     "text": [
      "Original String: HIMynaMeISsuHAas1234545 \n",
      "Is decimals: False\n",
      "Original String: HIMynaMeISsuHAas \n",
      "Is decimals: False\n",
      "Original String: 123456676543234 \n",
      "Is decimals: True\n",
      "Original String: 123456676543234.000 \n",
      "Is decimals: False\n",
      "Original String: 1234566qeisahnjqwdnsx.!@!##$%^&76543234 \n",
      "Is decimals: False\n"
     ]
    }
   ],
   "source": [
    "value = \"HIMynaMeISsuHAas1234545\"\n",
    "\n",
    "print(f\"Original String: {value} \\nIs decimals: {value.isdecimal()}\")\n",
    "\n",
    "value = \"HIMynaMeISsuHAas\"\n",
    "\n",
    "print(f\"Original String: {value} \\nIs decimals: {value.isdecimal()}\")\n",
    "\n",
    "value = \"123456676543234\"\n",
    "\n",
    "print(f\"Original String: {value} \\nIs decimals: {value.isdecimal()}\")\n",
    "\n",
    "value = \"123456676543234.000\"\n",
    "\n",
    "print(f\"Original String: {value} \\nIs decimals: {value.isdecimal()}\")\n",
    "\n",
    "value = \"1234566qeisahnjqwdnsx.!@!##$%^&76543234\"\n",
    "\n",
    "print(f\"Original String: {value} \\nIs decimals: {value.isdecimal()}\")"
   ]
  },
  {
   "cell_type": "markdown",
   "metadata": {},
   "source": [
    "### <a id='toc1_1_20_'></a>[isdigit()](#toc0_)\n",
    "\n",
    "Note: All characters from 0-9 only "
   ]
  },
  {
   "cell_type": "code",
   "execution_count": 15,
   "metadata": {},
   "outputs": [
    {
     "name": "stdout",
     "output_type": "stream",
     "text": [
      "Original String: HIMynaMeISsuHAas1234545 \n",
      "Is digit: False\n",
      "Original String: HIMynaMeISsuHAas \n",
      "Is digit: False\n",
      "Original String: 123456676543234 \n",
      "Is digit: True\n",
      "Original String: 1234566qeisahnjqwdnsx.!@!##$%^&76543234 \n",
      "Is digit: False\n"
     ]
    }
   ],
   "source": [
    "value = \"HIMynaMeISsuHAas1234545\"\n",
    "\n",
    "print(f\"Original String: {value} \\nIs digit: {value.isdigit()}\")\n",
    "\n",
    "value = \"HIMynaMeISsuHAas\"\n",
    "\n",
    "print(f\"Original String: {value} \\nIs digit: {value.isdigit()}\")\n",
    "\n",
    "value = \"123456676543234\"\n",
    "\n",
    "print(f\"Original String: {value} \\nIs digit: {value.isdigit()}\")\n",
    "\n",
    "value = \"1234566qeisahnjqwdnsx.!@!##$%^&76543234\"\n",
    "\n",
    "print(f\"Original String: {value} \\nIs digit: {value.isdigit()}\")"
   ]
  },
  {
   "cell_type": "markdown",
   "metadata": {},
   "source": [
    "### <a id='toc1_1_21_'></a>[isnumeric()](#toc0_)\n",
    "\n",
    "Note: All digits and characters considered numeric in unicode"
   ]
  },
  {
   "cell_type": "code",
   "execution_count": 16,
   "metadata": {},
   "outputs": [
    {
     "name": "stdout",
     "output_type": "stream",
     "text": [
      "Original String: HIMynaMeISsuHAas1234545 \n",
      "Is numeric: False\n",
      "Original String: HIMynaMeISsuHAas \n",
      "Is numeric: False\n",
      "Original String: 123456676543234 \n",
      "Is numeric: True\n",
      "Original String: 1234566qeisahnjqwdnsx.!@!##$%^&76543234 \n",
      "Is numeric: False\n"
     ]
    }
   ],
   "source": [
    "value = \"HIMynaMeISsuHAas1234545\"\n",
    "\n",
    "print(f\"Original String: {value} \\nIs numeric: {value.isnumeric()}\")\n",
    "\n",
    "value = \"HIMynaMeISsuHAas\"\n",
    "\n",
    "print(f\"Original String: {value} \\nIs numeric: {value.isnumeric()}\")\n",
    "\n",
    "value = \"123456676543234\"\n",
    "\n",
    "print(f\"Original String: {value} \\nIs numeric: {value.isnumeric()}\")\n",
    "\n",
    "value = \"1234566qeisahnjqwdnsx.!@!##$%^&76543234\"\n",
    "\n",
    "print(f\"Original String: {value} \\nIs numeric: {value.isnumeric()}\")"
   ]
  },
  {
   "cell_type": "markdown",
   "metadata": {},
   "source": [
    "### <a id='toc1_1_22_'></a>[isascii()](#toc0_)"
   ]
  },
  {
   "cell_type": "code",
   "execution_count": 14,
   "metadata": {},
   "outputs": [
    {
     "name": "stdout",
     "output_type": "stream",
     "text": [
      "Original String: a \n",
      "Is ascii: True\n",
      "Original String: HIMynaMeISsuHAas1234545 \n",
      "Is ascii: True\n",
      "Original String: HIMynaMeISsuHAas \n",
      "Is ascii: True\n",
      "Original String: 123456676543234~ \n",
      "Is ascii: True\n",
      "Original String: 1234566qeisahnjqwdnsx.!@!##$%^&76543234 \n",
      "Is ascii: True\n"
     ]
    }
   ],
   "source": [
    "value = \"a\"\n",
    "\n",
    "print(f\"Original String: {value} \\nIs ascii: {value.isascii()}\")\n",
    "\n",
    "value = \"HIMynaMeISsuHAas1234545\"\n",
    "\n",
    "print(f\"Original String: {value} \\nIs ascii: {value.isascii()}\")\n",
    "\n",
    "value = \"HIMynaMeISsuHAas\"\n",
    "\n",
    "print(f\"Original String: {value} \\nIs ascii: {value.isascii()}\")\n",
    "\n",
    "value = \"123456676543234\"\n",
    "\n",
    "print(f\"Original String: {value} \\nIs ascii: {value.isascii()}\")\n",
    "\n",
    "value = \"1234566qeisahnjqwdnsx.!@!##$%^&76543234\"\n",
    "\n",
    "print(f\"Original String: {value} \\nIs ascii: {value.isascii()}\")"
   ]
  },
  {
   "cell_type": "markdown",
   "metadata": {},
   "source": [
    "### <a id='toc1_1_23_'></a>[isidentifier()](#toc0_)"
   ]
  },
  {
   "cell_type": "code",
   "execution_count": 21,
   "metadata": {},
   "outputs": [
    {
     "name": "stdout",
     "output_type": "stream",
     "text": [
      "Original String: Hi Suhaas \n",
      "Is identifier: False\n",
      "Original String: HiSuhaas \n",
      "Is identifier: True\n",
      "Original String: HiSuhaas., \n",
      "Is identifier: False\n",
      "Original String:  \n",
      "Is identifier: False\n",
      "Original String: Hi5Suhaas \n",
      "Is identifier: True\n",
      "Original String: 56HI546Suhaas \n",
      "Is identifier: False\n"
     ]
    }
   ],
   "source": [
    "# String with spaces\n",
    "value = \"Hi Suhaas\"\n",
    "print(f\"Original String: {value} \\nIs identifier: {value.isidentifier()}\")\n",
    "\n",
    "# A Perfect identifier\n",
    "value = \"HiSuhaas\"\n",
    "print(f\"Original String: {value} \\nIs identifier: {value.isidentifier()}\")\n",
    "\n",
    "# Special characters\n",
    "value = \"HiSuhaas.,\"\n",
    "print(f\"Original String: {value} \\nIs identifier: {value.isidentifier()}\")\n",
    "\n",
    "# Empty string\n",
    "value = \"\"\n",
    "print(f\"Original String: {value} \\nIs identifier: {value.isidentifier()}\")\n",
    "\n",
    "# Alphanumerical string\n",
    "value = \"Hi5Suhaas\"\n",
    "print(f\"Original String: {value} \\nIs identifier: {value.isidentifier()}\")\n",
    "\n",
    "# Beginning with an integer\n",
    "value = \"56HI546Suhaas\"\n",
    "print(f\"Original String: {value} \\nIs identifier: {value.isidentifier()}\")\n"
   ]
  },
  {
   "cell_type": "markdown",
   "metadata": {},
   "source": [
    "### <a id='toc1_1_24_'></a>[islower()](#toc0_)\n",
    "\n",
    "- Checks if all the alphabets are lowercase"
   ]
  },
  {
   "cell_type": "code",
   "execution_count": 54,
   "metadata": {},
   "outputs": [
    {
     "name": "stdout",
     "output_type": "stream",
     "text": [
      "False\n"
     ]
    }
   ],
   "source": [
    "value = \"Randoooooom Stringgg\"\n",
    "\n",
    "print(value.islower())"
   ]
  },
  {
   "cell_type": "code",
   "execution_count": 56,
   "metadata": {},
   "outputs": [
    {
     "name": "stdout",
     "output_type": "stream",
     "text": [
      "True\n"
     ]
    }
   ],
   "source": [
    "value = \"randoooooom stringgg\"\n",
    "\n",
    "print(value.islower())"
   ]
  },
  {
   "cell_type": "code",
   "execution_count": 58,
   "metadata": {},
   "outputs": [
    {
     "name": "stdout",
     "output_type": "stream",
     "text": [
      "True\n"
     ]
    }
   ],
   "source": [
    "value = \"randoooooom stringgg 123584 ./*-\"\n",
    "\n",
    "print(value.islower())"
   ]
  },
  {
   "cell_type": "markdown",
   "metadata": {},
   "source": [
    "### <a id='toc1_1_25_'></a>[isupper()](#toc0_)\n",
    "\n",
    "- Checks if all the alphabets are uppercase"
   ]
  },
  {
   "cell_type": "code",
   "execution_count": 55,
   "metadata": {},
   "outputs": [
    {
     "name": "stdout",
     "output_type": "stream",
     "text": [
      "False\n"
     ]
    }
   ],
   "source": [
    "value = \"Randoooooom Stringgg\"\n",
    "\n",
    "print(value.isupper())"
   ]
  },
  {
   "cell_type": "code",
   "execution_count": 59,
   "metadata": {},
   "outputs": [
    {
     "name": "stdout",
     "output_type": "stream",
     "text": [
      "True\n"
     ]
    }
   ],
   "source": [
    "value = \"RANDOMMM\"\n",
    "\n",
    "print(value.isupper())"
   ]
  },
  {
   "cell_type": "code",
   "execution_count": 60,
   "metadata": {},
   "outputs": [
    {
     "name": "stdout",
     "output_type": "stream",
     "text": [
      "True\n"
     ]
    }
   ],
   "source": [
    "value = \"RANDOMMM 1235 /*+-!@#$%^&*\"\n",
    "\n",
    "print(value.isupper())"
   ]
  },
  {
   "cell_type": "markdown",
   "metadata": {},
   "source": [
    "### <a id='toc1_1_26_'></a>[join()](#toc0_)"
   ]
  },
  {
   "cell_type": "code",
   "execution_count": 71,
   "metadata": {},
   "outputs": [
    {
     "name": "stdout",
     "output_type": "stream",
     "text": [
      "H0 0E0 0L0 0L0 0O\n",
      "0HELLO HELLO0\n",
      "a0 0b0 0c\n",
      "a0 0b0 0c0 0d\n",
      "a0 0b0 0c0 0d0 0e\n"
     ]
    }
   ],
   "source": [
    "value = \"HELLO\"\n",
    "seperator=\"0 0\"\n",
    "print(seperator.join(value))\n",
    "\n",
    "print(value.join(seperator))\n",
    "\n",
    "list=['a','b','c']\n",
    "print(seperator.join(list))\n",
    "\n",
    "tuple=('a','b','c','d')\n",
    "print(seperator.join(tuple))\n",
    "\n",
    "dict={'a':1,'b':2,'c':3,'d':4,'e':5}\n",
    "print(seperator.join(dict))"
   ]
  },
  {
   "cell_type": "markdown",
   "metadata": {},
   "source": [
    "### <a id='toc1_1_27_'></a>[strip()](#toc0_)\n",
    "\n",
    "Syntax: string.strip(str=\" \")\n",
    "Parameter:\n",
    "- str: a list of characters as a string. Defaulted to space.\n",
    "\n",
    "Remove the character(s) from both ends of the string"
   ]
  },
  {
   "cell_type": "code",
   "execution_count": 88,
   "metadata": {},
   "outputs": [
    {
     "name": "stdout",
     "output_type": "stream",
     "text": [
      "Sentance befor strip(): '                    aaaaaaaaaaaaaaaaaaRandoooooom Stringggaaaaaaaaaaaaaaaaaaaaaaa                      '.\n",
      "\n",
      "Sentance after strip(): 'aaaaaaaaaaaaaaaaaaRandoooooom Stringggaaaaaaaaaaaaaaaaaaaaaaa'.\n",
      "\n",
      "\n",
      "Sentance befor strip(): 'aaaaaaaaaaaaaaaaaaRandoooooom Stringggaaaaaaaaaaaaaaaaaaaaaa                      '.\n",
      "\n",
      "Sentance after strip('ar'): 'Randoooooom Stringggaaaaaaaaaaaaaaaaaaaaaa                      '.\n",
      "Sentance after strip('Ra '): 'ndoooooom Stringgg'.\n"
     ]
    }
   ],
   "source": [
    "value = \"                    aaaaaaaaaaaaaaaaaaRandoooooom Stringggaaaaaaaaaaaaaaaaaaaaaaa                      \"\n",
    "\n",
    "print(f\"Sentance befor strip(): '{value}'.\")\n",
    "print(\"\\nSentance after strip(): '{}'.\".format(value.strip()))\n",
    "\n",
    "value = \"aaaaaaaaaaaaaaaaaaRandoooooom Stringggaaaaaaaaaaaaaaaaaaaaaa                      \"\n",
    "\n",
    "print(f\"\\n\\nSentance befor strip(): '{value}'.\")\n",
    "print(\"\\nSentance after strip('ar'): '{}'.\".format(value.strip('ar')))\n",
    "print(\"Sentance after strip('Ra '): '{}'.\".format(value.strip('Ra ')))"
   ]
  },
  {
   "cell_type": "markdown",
   "metadata": {},
   "source": [
    "### <a id='toc1_1_28_'></a>[lstrip()](#toc0_)\n",
    "\n",
    "\n",
    "Syntax: string.lstrip(str=\" \")\n",
    "Parameter:\n",
    "- str: a list of characters as a string. Defaulted to space.\n",
    "\n",
    "Remove the character(s) from start of the string"
   ]
  },
  {
   "cell_type": "code",
   "execution_count": 87,
   "metadata": {},
   "outputs": [
    {
     "name": "stdout",
     "output_type": "stream",
     "text": [
      "Sentance befor lstrip(): '                    aaaaaaaaaaaaaaaaaaRandoooooom Stringggaaaaaaaaaaaaaaaaaaaaaaa                      '.\n",
      "\n",
      "Sentance after lstrip(): 'aaaaaaaaaaaaaaaaaaRandoooooom Stringggaaaaaaaaaaaaaaaaaaaaaaa                      '.\n",
      "\n",
      "\n",
      "Sentance befor lstrip(): 'aaaaaaaaaaaaaaaaaaRandoooooom Stringggaaaaaaaaaaaaaaaaaaaaaa                      '.\n",
      "\n",
      "Sentance after lstrip('ar'): 'Randoooooom Stringggaaaaaaaaaaaaaaaaaaaaaa                      '.\n",
      "Sentance after lstrip('Ra '): 'ndoooooom Stringggaaaaaaaaaaaaaaaaaaaaaa                      '.\n"
     ]
    }
   ],
   "source": [
    "value = \"                    aaaaaaaaaaaaaaaaaaRandoooooom Stringggaaaaaaaaaaaaaaaaaaaaaaa                      \"\n",
    "\n",
    "print(f\"Sentance befor lstrip(): '{value}'.\")\n",
    "print(\"\\nSentance after lstrip(): '{}'.\".format(value.lstrip()))\n",
    "\n",
    "value = \"aaaaaaaaaaaaaaaaaaRandoooooom Stringggaaaaaaaaaaaaaaaaaaaaaa                      \"\n",
    "\n",
    "print(f\"\\n\\nSentance befor lstrip(): '{value}'.\")\n",
    "print(\"\\nSentance after lstrip('ar'): '{}'.\".format(value.lstrip('ar')))\n",
    "print(\"Sentance after lstrip('Ra '): '{}'.\".format(value.lstrip('Ra ')))"
   ]
  },
  {
   "cell_type": "markdown",
   "metadata": {},
   "source": [
    "### <a id='toc1_1_29_'></a>[rstrip()](#toc0_)\n",
    "\n",
    "Syntax: string.rstrip(str=\" \")\n",
    "Parameter:\n",
    "- str: a list of characters as a string. Defaulted to space.\n",
    "\n",
    "Remove the character(s) from end of the string"
   ]
  },
  {
   "cell_type": "code",
   "execution_count": 89,
   "metadata": {},
   "outputs": [
    {
     "name": "stdout",
     "output_type": "stream",
     "text": [
      "Sentance befor rstrip(): '                    aaaaaaaaaaaaaaaaaaRandoooooom Stringggaaaaaaaaaaaaaaaaaaaaaaa                      '.\n",
      "\n",
      "Sentance after rstrip(): '                    aaaaaaaaaaaaaaaaaaRandoooooom Stringggaaaaaaaaaaaaaaaaaaaaaaa'.\n",
      "\n",
      "\n",
      "Sentance before rstrip(): 'aaaaaaaaaaaaaaaaaaRandoooooom Stringggaaaaaaaaaaaaaaaaaaaaaa                      '.\n",
      "\n",
      "Sentance after rstrip('ar'): 'aaaaaaaaaaaaaaaaaaRandoooooom Stringggaaaaaaaaaaaaaaaaaaaaaa                      '.\n",
      "Sentance after rstrip('Ra '): 'aaaaaaaaaaaaaaaaaaRandoooooom Stringgg'.\n"
     ]
    }
   ],
   "source": [
    "value = \"                    aaaaaaaaaaaaaaaaaaRandoooooom Stringggaaaaaaaaaaaaaaaaaaaaaaa                      \"\n",
    "\n",
    "print(f\"Sentance befor rstrip(): '{value}'.\")\n",
    "print(\"\\nSentance after rstrip(): '{}'.\".format(value.rstrip()))\n",
    "\n",
    "value = \"aaaaaaaaaaaaaaaaaaRandoooooom Stringggaaaaaaaaaaaaaaaaaaaaaa                      \"\n",
    "\n",
    "print(f\"\\n\\nSentance before rstrip(): '{value}'.\")\n",
    "print(\"\\nSentance after rstrip('ar'): '{}'.\".format(value.rstrip('ar')))\n",
    "print(\"Sentance after rstrip('Ra '): '{}'.\".format(value.rstrip('Ra ')))"
   ]
  },
  {
   "cell_type": "markdown",
   "metadata": {},
   "source": [
    "### <a id='toc1_1_30_'></a>[maketrans() and translate()](#toc0_)\n",
    "\n",
    "1. **maketrans()**\n",
    "\n",
    "    Syntax: string.maketrans(s1,s2,s3='')\n",
    "    Parameters:\n",
    "    - s1: This specifies the list of characters that need to be replaced.\n",
    "    - s2: This specifies the list of characters that will replace the characters in s1.\n",
    "    - s3: This specifies the list of characters that need to be deleted.\n",
    "\n",
    "2. **translate()**\n",
    "\n",
    "    Syntax: string.translate(table)\n",
    "    Parameters:\n",
    "    - table: A dictionary of ASCII mapping for the replacements.(Output received from maketrans())\n",
    "\n",
    "\n",
    "\n",
    "***Observation***: \n",
    "1. All translation happen simulatoeously. Like in the below example, all instances of 'e' was replaced by 'o' and all instances of 'o' was replaced by 'e'. if it would have happend in sequece of the translaction table, the output would have been: Hi Suhaas, are yeu busy.\n",
    "2. s1 and s2 are of to be equal length. If not, we get a value error\n",
    "3. Case sensitive"
   ]
  },
  {
   "cell_type": "code",
   "execution_count": 8,
   "metadata": {},
   "outputs": [
    {
     "name": "stdout",
     "output_type": "stream",
     "text": [
      "Before translation: Hi SuhAas, ale your busy\n",
      "Translation table: {108: 114, 101: 111, 111: 101, 97: 65, 114: None}\n",
      "After translation: Hi SuhAAs, Aro yeu busy\n"
     ]
    }
   ],
   "source": [
    "value = \"Hi SuhAas, ale your busy\"\n",
    "\n",
    "print(\"Before translation: {}\".format(value))\n",
    "\n",
    "translationTable=value.maketrans('leoa','roeA','r')\n",
    "print(\"Translation table: {}\".format(translationTable))\n",
    "print(\"After translation: {}\".format(value.translate(translationTable)))\n"
   ]
  },
  {
   "cell_type": "code",
   "execution_count": 11,
   "metadata": {},
   "outputs": [
    {
     "name": "stdout",
     "output_type": "stream",
     "text": [
      "Before translation: Hi SuhAas, ale your busy\n",
      "Translation table: {108: 114, 101: 111, 111: 101, 97: 65, 33: None, 34: None, 35: None, 36: None, 37: None, 38: None, 39: None, 40: None, 41: None, 42: None, 43: None, 44: None, 45: None, 46: None, 47: None, 58: None, 59: None, 60: None, 61: None, 62: None, 63: None, 64: None, 91: None, 92: None, 93: None, 94: None, 95: None, 96: None, 123: None, 124: None, 125: None, 126: None}\n",
      "After translation: Hi SuhAAs Aro yeur busy\n"
     ]
    }
   ],
   "source": [
    "import string\n",
    "\n",
    "value = \"Hi SuhAas, ale your busy\"\n",
    "\n",
    "print(\"Before translation: {}\".format(value))\n",
    "\n",
    "translationTable=value.maketrans('leoa','roeA',string.punctuation)\n",
    "print(\"Translation table: {}\".format(translationTable))\n",
    "print(\"After translation: {}\".format(value.translate(translationTable)))"
   ]
  },
  {
   "cell_type": "code",
   "execution_count": 12,
   "metadata": {},
   "outputs": [
    {
     "name": "stdout",
     "output_type": "stream",
     "text": [
      "Before translation: Hi SuhAas, ale your busy\n",
      "Translation table: {108: 114, 101: 111, 111: 101, 97: 65}\n",
      "After translation: Hi SuhAAs, Aro yeur busy\n"
     ]
    }
   ],
   "source": [
    "value = \"Hi SuhAas, ale your busy\"\n",
    "\n",
    "print(\"Before translation: {}\".format(value))\n",
    "\n",
    "translationTable=value.maketrans('leoa','roeA')\n",
    "print(\"Translation table: {}\".format(translationTable))\n",
    "print(\"After translation: {}\".format(value.translate(translationTable)))"
   ]
  },
  {
   "cell_type": "code",
   "execution_count": 13,
   "metadata": {},
   "outputs": [
    {
     "name": "stdout",
     "output_type": "stream",
     "text": [
      "Before translation: Hi SuhAas, ale your busy\n",
      "Translation table: {33: None, 34: None, 35: None, 36: None, 37: None, 38: None, 39: None, 40: None, 41: None, 42: None, 43: None, 44: None, 45: None, 46: None, 47: None, 58: None, 59: None, 60: None, 61: None, 62: None, 63: None, 64: None, 91: None, 92: None, 93: None, 94: None, 95: None, 96: None, 123: None, 124: None, 125: None, 126: None}\n",
      "After translation: Hi SuhAas ale your busy\n"
     ]
    }
   ],
   "source": [
    "import string\n",
    "\n",
    "value = \"Hi SuhAas, ale your busy\"\n",
    "\n",
    "print(\"Before translation: {}\".format(value))\n",
    "\n",
    "translationTable=value.maketrans('','',string.punctuation)\n",
    "print(\"Translation table: {}\".format(translationTable))\n",
    "print(\"After translation: {}\".format(value.translate(translationTable)))"
   ]
  },
  {
   "cell_type": "code",
   "execution_count": 14,
   "metadata": {},
   "outputs": [
    {
     "name": "stdout",
     "output_type": "stream",
     "text": [
      "Before translation: Hi SuhAas, ale your busy\n",
      "Translation table: {}\n",
      "After translation: Hi SuhAas, ale your busy\n"
     ]
    }
   ],
   "source": [
    "value = \"Hi SuhAas, ale your busy\"\n",
    "\n",
    "print(\"Before translation: {}\".format(value))\n",
    "\n",
    "translationTable=value.maketrans('','')\n",
    "print(\"Translation table: {}\".format(translationTable))\n",
    "print(\"After translation: {}\".format(value.translate(translationTable)))"
   ]
  },
  {
   "cell_type": "markdown",
   "metadata": {},
   "source": [
    "### <a id='toc1_1_31_'></a>[split()](#toc0_)\n",
    "\n",
    "Syntax: string.split(seperator, maxsplit=str.count(seperator))\n",
    "Paramaters:\n",
    "- seperator- character or a substring for the basis of split\n",
    "- maxsplit- maximum number of splits to be done. Default is the maxim occurances of the seperator"
   ]
  },
  {
   "cell_type": "code",
   "execution_count": 51,
   "metadata": {},
   "outputs": [
    {
     "name": "stdout",
     "output_type": "stream",
     "text": [
      "['Rand', '', '', 'm', 'm Stringgg']\n",
      "['Rand', 'oomom Stringgg']\n",
      "['Rand', '', 'omom Stringgg']\n",
      "['Rand', '', '', 'mom Stringgg']\n",
      "['Rand', '', '', 'm', 'm Stringgg']\n",
      "['Rand', '', '', 'm', 'm Stringgg']\n"
     ]
    }
   ],
   "source": [
    "value = \"Randooomom Stringgg\"\n",
    "\n",
    "print(value.split('o'))\n",
    "print(value.split('o',1))\n",
    "print(value.split('o',2))\n",
    "print(value.split('o',3))\n",
    "print(value.split('o',4))\n",
    "print(value.split('o',4))"
   ]
  },
  {
   "cell_type": "markdown",
   "metadata": {},
   "source": [
    "### <a id='toc1_1_32_'></a>[partition()](#toc0_)\n",
    "\n",
    "- Simple version of split()"
   ]
  },
  {
   "cell_type": "code",
   "execution_count": null,
   "metadata": {},
   "outputs": [
    {
     "name": "stdout",
     "output_type": "stream",
     "text": [
      "('Rand', 'o', 'oomom Stringgg')\n"
     ]
    }
   ],
   "source": [
    "value = \"Randooomom Stringgg\"\n",
    "\n",
    "print(value.partition('o'))"
   ]
  },
  {
   "cell_type": "markdown",
   "metadata": {},
   "source": [
    "### <a id='toc1_1_33_'></a>[rsplit()](#toc0_)\n",
    "\n",
    "Syntax: string.rsplit(seperator, maxsplit=str.count(seperator))\n",
    "Paramaters:\n",
    "- seperator- character or a substring for the basis of split\n",
    "- maxsplit- maximum number of splits to be done. Default is the maxim occurances of the seperator\n"
   ]
  },
  {
   "cell_type": "code",
   "execution_count": 49,
   "metadata": {},
   "outputs": [
    {
     "name": "stdout",
     "output_type": "stream",
     "text": [
      "['Rand', '', '', 'm Stringgg']\n",
      "['Randoo', 'm Stringgg']\n",
      "['Rando', '', 'm Stringgg']\n",
      "['Rand', '', '', 'm Stringgg']\n",
      "['Rand', '', '', 'm Stringgg']\n"
     ]
    }
   ],
   "source": [
    "value = \"Randooom Stringgg\"\n",
    "\n",
    "print(value.rsplit('o'))\n",
    "print(value.rsplit('o',1))\n",
    "print(value.rsplit('o',2))\n",
    "print(value.rsplit('o',3))\n",
    "print(value.rsplit('o',4))"
   ]
  },
  {
   "cell_type": "markdown",
   "metadata": {},
   "source": [
    "### <a id='toc1_1_34_'></a>[replace()](#toc0_)\n",
    "\n",
    "Syntax: string.replace(new,old,count= string.count(new))\n",
    "\n",
    "Parameters: \n",
    "- new: The new string to replace with.\n",
    "- old: The old string to replace.\n",
    "- count: The number of replacements to make. If not specified, all occurrences are replaced.\n"
   ]
  },
  {
   "cell_type": "code",
   "execution_count": 93,
   "metadata": {},
   "outputs": [
    {
     "name": "stdout",
     "output_type": "stream",
     "text": [
      "Before replacement: randoooooom stringgg\n",
      "After replacement: random stringgg\n",
      "After replacement: randm stringgg\n",
      "After replacement: random stringgg\n",
      "After replacement: randoooooom stringgg\n"
     ]
    }
   ],
   "source": [
    "value = \"randoooooom stringgg\"\n",
    "\n",
    "print(f\"Before replacement: {value}\")\n",
    "print(f\"After replacement: {value.replace('oooooo','o')}\")\n",
    "print(f\"After replacement: {value.replace('o','')}\")\n",
    "print(f\"After replacement: {value.replace('o','',5)}\")\n",
    "print(f\"After replacement: {value.replace('O','',5)}\")"
   ]
  },
  {
   "cell_type": "markdown",
   "metadata": {},
   "source": [
    "## <a id='toc1_2_'></a>[Slicing](#toc0_)"
   ]
  },
  {
   "cell_type": "markdown",
   "metadata": {},
   "source": [
    "## <a id='toc1_3_'></a>[Indexing](#toc0_)"
   ]
  },
  {
   "cell_type": "markdown",
   "metadata": {},
   "source": [
    "## <a id='toc1_4_'></a>[String Library](#toc0_)"
   ]
  },
  {
   "cell_type": "markdown",
   "metadata": {},
   "source": [
    "### <a id='toc1_4_1_'></a>[punctuation](#toc0_)\n",
    "\n",
    "- Returns a string of all the punctuations"
   ]
  },
  {
   "cell_type": "code",
   "execution_count": 20,
   "metadata": {},
   "outputs": [
    {
     "name": "stdout",
     "output_type": "stream",
     "text": [
      "!\"#$%&'()*+,-./:;<=>?@[\\]^_`{|}~\n"
     ]
    }
   ],
   "source": [
    "import string\n",
    "\n",
    "print(string.punctuation)"
   ]
  },
  {
   "cell_type": "markdown",
   "metadata": {},
   "source": [
    "### <a id='toc1_4_2_'></a>[printable](#toc0_)\n",
    "\n",
    "- Returns a string of all the printable characters"
   ]
  },
  {
   "cell_type": "code",
   "execution_count": 29,
   "metadata": {},
   "outputs": [
    {
     "name": "stdout",
     "output_type": "stream",
     "text": [
      "0123456789abcdefghijklmnopqrstuvwxyzABCDEFGHIJKLMNOPQRSTUVWXYZ!\"#$%&'()*+,-./:;<=>?@[\\]^_`{|}~ \t\n",
      "\u000b\f\n"
     ]
    }
   ],
   "source": [
    "print(string.printable)"
   ]
  },
  {
   "cell_type": "markdown",
   "metadata": {},
   "source": [
    "## <a id='toc1_5_'></a>[Practice Programs](#toc0_)"
   ]
  },
  {
   "cell_type": "markdown",
   "metadata": {},
   "source": [
    "### <a id='toc1_5_1_'></a>[Write a Python program to reverse a string.](#toc0_)"
   ]
  },
  {
   "cell_type": "code",
   "execution_count": 58,
   "metadata": {},
   "outputs": [
    {
     "name": "stdout",
     "output_type": "stream",
     "text": [
      "saahus si eman ym ,IH\n"
     ]
    }
   ],
   "source": [
    "value = input(\"Enter a string: \")\n",
    "print(value[len(value)::-1])"
   ]
  },
  {
   "cell_type": "markdown",
   "metadata": {},
   "source": [
    "### <a id='toc1_5_2_'></a>[Write a Python program to check if a string is a palindrome.](#toc0_)"
   ]
  },
  {
   "cell_type": "code",
   "execution_count": null,
   "metadata": {},
   "outputs": [],
   "source": [
    "value = input(\"Enter test string for palindrome testing: \")\n",
    "if value.lower()[len(value)::-1] == value.lower():\n",
    "    print(f\"{value.lower().capitalize()} is a Palindrome!\")\n",
    "else:\n",
    "    print(f\"{value.lower().capitalize()} is NOT a Palindrome!\")\n",
    "\n",
    "print(\"Note: Lower and upper case letters are differentiated\")"
   ]
  },
  {
   "cell_type": "markdown",
   "metadata": {},
   "source": [
    "### <a id='toc1_5_3_'></a>[Write a Python program to count the number of vowels in a string.](#toc0_)"
   ]
  },
  {
   "cell_type": "code",
   "execution_count": 70,
   "metadata": {},
   "outputs": [
    {
     "name": "stdout",
     "output_type": "stream",
     "text": [
      "Given string contains one or more vowels.\n"
     ]
    }
   ],
   "source": [
    "value = input(\"Enter a string to check for vowels: \")\n",
    "if value.lower().count('a')>0 or value.lower().count('e')>0 or value.lower().count('i')>0 or value.lower().count('o')>0 or value.lower().count('u')>0:\n",
    "    print(\"Given string contains one or more vowels.\")\n",
    "else:\n",
    "    print(\"Given string does NOT contains vowels.\")"
   ]
  }
 ],
 "metadata": {
  "kernelspec": {
   "display_name": "Python 3",
   "language": "python",
   "name": "python3"
  },
  "language_info": {
   "codemirror_mode": {
    "name": "ipython",
    "version": 3
   },
   "file_extension": ".py",
   "mimetype": "text/x-python",
   "name": "python",
   "nbconvert_exporter": "python",
   "pygments_lexer": "ipython3",
   "version": "3.12.3"
  }
 },
 "nbformat": 4,
 "nbformat_minor": 2
}
