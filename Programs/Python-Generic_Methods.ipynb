{
 "cells": [
  {
   "cell_type": "markdown",
   "metadata": {},
   "source": [
    "**Table of contents**<a id='toc0_'></a>    \n",
    "- [getsizeof()](#toc1_1_1_)    \n",
    "- [type()](#toc1_1_2_)    \n",
    "\n",
    "<!-- vscode-jupyter-toc-config\n",
    "\tnumbering=false\n",
    "\tanchor=true\n",
    "\tflat=false\n",
    "\tminLevel=1\n",
    "\tmaxLevel=6\n",
    "\t/vscode-jupyter-toc-config -->\n",
    "<!-- THIS CELL WILL BE REPLACED ON TOC UPDATE. DO NOT WRITE YOUR TEXT IN THIS CELL -->"
   ]
  },
  {
   "cell_type": "markdown",
   "metadata": {},
   "source": [
    "### <a id='toc1_1_1_'></a>[getsizeof()](#toc0_)"
   ]
  },
  {
   "cell_type": "code",
   "execution_count": 9,
   "metadata": {},
   "outputs": [
    {
     "name": "stdout",
     "output_type": "stream",
     "text": [
      "Your input: 😊😊\n",
      "Size consumed: 84\n"
     ]
    }
   ],
   "source": [
    "import sys\n",
    "\n",
    "value = input(\"enter a letter: \")\n",
    "print(f\"Your input: {value}\\nSize consumed: {sys.getsizeof(value)}\")"
   ]
  },
  {
   "cell_type": "markdown",
   "metadata": {},
   "source": [
    "### <a id='toc1_1_2_'></a>[type()](#toc0_)"
   ]
  },
  {
   "cell_type": "code",
   "execution_count": 1,
   "metadata": {},
   "outputs": [
    {
     "name": "stdout",
     "output_type": "stream",
     "text": [
      "'1' is of type: <class 'int'>\n",
      "'True' is of type: <class 'bool'>\n",
      "'1.0' is of type: <class 'float'>\n",
      "'1' is of type: <class 'str'>\n"
     ]
    }
   ],
   "source": [
    "value=1\n",
    "print(f\"'{value}' is of type: {type(value)}\")\n",
    "\n",
    "value=True\n",
    "print(f\"'{value}' is of type: {type(value)}\")\n",
    "\n",
    "value=1.0\n",
    "print(f\"'{value}' is of type: {type(value)}\")\n",
    "\n",
    "value=\"1\"\n",
    "print(f\"'{value}' is of type: {type(value)}\")"
   ]
  }
 ],
 "metadata": {
  "kernelspec": {
   "display_name": "Python 3",
   "language": "python",
   "name": "python3"
  },
  "language_info": {
   "codemirror_mode": {
    "name": "ipython",
    "version": 3
   },
   "file_extension": ".py",
   "mimetype": "text/x-python",
   "name": "python",
   "nbconvert_exporter": "python",
   "pygments_lexer": "ipython3",
   "version": "3.12.3"
  }
 },
 "nbformat": 4,
 "nbformat_minor": 2
}
