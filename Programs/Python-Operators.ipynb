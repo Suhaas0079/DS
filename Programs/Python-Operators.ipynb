{
 "cells": [
  {
   "cell_type": "markdown",
   "metadata": {},
   "source": [
    "**Table of contents**<a id='toc0_'></a>    \n",
    "- [Operators](#toc1_)    \n",
    "  - [Airtmatic operators](#toc1_1_)    \n",
    "  - [Mathematic methods](#toc1_2_)    \n",
    "    - [abs(number)](#toc1_2_1_)    \n",
    "    - [round(number)](#toc1_2_2_)    \n",
    "    - [pow(base, exponent) [**] ](#toc1_2_3_)    \n",
    "  - [Comparision operators](#toc1_3_)    \n",
    "    - [Greater than [>] ](#toc1_3_1_)    \n",
    "    - [Less than [<] ](#toc1_3_2_)    \n",
    "    - [Greater than or equal to [>=] ](#toc1_3_3_)    \n",
    "    - [Less than or equal to [<=] ](#toc1_3_4_)    \n",
    "    - [Equal to [==] ](#toc1_3_5_)    \n",
    "    - [Not Equal to [!=] ](#toc1_3_6_)    \n",
    "  - [Logical operators](#toc1_4_)    \n",
    "    - [and](#toc1_4_1_)    \n",
    "    - [or](#toc1_4_2_)    \n",
    "    - [not](#toc1_4_3_)    \n",
    "\n",
    "<!-- vscode-jupyter-toc-config\n",
    "\tnumbering=false\n",
    "\tanchor=true\n",
    "\tflat=false\n",
    "\tminLevel=1\n",
    "\tmaxLevel=6\n",
    "\t/vscode-jupyter-toc-config -->\n",
    "<!-- THIS CELL WILL BE REPLACED ON TOC UPDATE. DO NOT WRITE YOUR TEXT IN THIS CELL -->"
   ]
  },
  {
   "cell_type": "markdown",
   "metadata": {},
   "source": [
    "# <a id='toc1_'></a>[Operators](#toc0_)"
   ]
  },
  {
   "cell_type": "markdown",
   "metadata": {},
   "source": [
    "## <a id='toc1_1_'></a>[Airtmatic operators](#toc0_)\n",
    "\n",
    "- Add                  [+]\n",
    "- Subtract             [-]\n",
    "- Multiplication       [*]\n",
    "- Division             [/] -> Return a float value\n",
    "- Modulus (remainder)  [%]\n",
    "- Exponentiation       [**]\n",
    "- Floor Division       [//]"
   ]
  },
  {
   "cell_type": "code",
   "execution_count": 2,
   "metadata": {},
   "outputs": [
    {
     "name": "stdout",
     "output_type": "stream",
     "text": [
      "11\n",
      "2\n",
      "2\n",
      "1\n"
     ]
    }
   ],
   "source": [
    "print('1' + '1')\n",
    "print(1+1)\n",
    "print(True+True)\n",
    "print(True+False)"
   ]
  },
  {
   "cell_type": "code",
   "execution_count": 4,
   "metadata": {},
   "outputs": [
    {
     "name": "stdout",
     "output_type": "stream",
     "text": [
      "0\n",
      "0\n",
      "1\n",
      "-1\n"
     ]
    }
   ],
   "source": [
    "#print('1' - '1') -- string operations except addition will not work\n",
    "print(1-1)\n",
    "print(True-True)\n",
    "print(True-False)\n",
    "print(False-True)\n"
   ]
  },
  {
   "cell_type": "code",
   "execution_count": 20,
   "metadata": {},
   "outputs": [
    {
     "name": "stdout",
     "output_type": "stream",
     "text": [
      "2\n",
      "2\n",
      "-2\n",
      "1\n",
      "0\n",
      "0\n"
     ]
    }
   ],
   "source": [
    "#print('1' * '1') -- string operations except addition will not work\n",
    "print(1*2)\n",
    "print(-1*-2)\n",
    "print(-1*2)\n",
    "print(True*True)\n",
    "print(True*False)\n",
    "print(False*True)\n"
   ]
  },
  {
   "cell_type": "code",
   "execution_count": 8,
   "metadata": {},
   "outputs": [
    {
     "name": "stdout",
     "output_type": "stream",
     "text": [
      "0.5\n",
      "1.0\n",
      "0.0\n"
     ]
    }
   ],
   "source": [
    "#print('1' / '1') -- string operations except addition will not work\n",
    "print(1/2)\n",
    "print(True/True)\n",
    "#print(True/False) - 1/0 does not work due to infinity\n",
    "print(False/True)\n"
   ]
  },
  {
   "cell_type": "code",
   "execution_count": 13,
   "metadata": {},
   "outputs": [
    {
     "name": "stdout",
     "output_type": "stream",
     "text": [
      "1\n",
      "0\n",
      "2\n",
      "0\n",
      "0\n"
     ]
    }
   ],
   "source": [
    "#print('1' % '1') -- string operations except addition will not work\n",
    "print(1%2)\n",
    "print(12%2)\n",
    "print(11%3)\n",
    "print(True%True)\n",
    "#print(True%False) - 1%0 does not work due to infinity\n",
    "print(False%True)"
   ]
  },
  {
   "cell_type": "code",
   "execution_count": 14,
   "metadata": {},
   "outputs": [
    {
     "name": "stdout",
     "output_type": "stream",
     "text": [
      "0\n",
      "6\n",
      "3\n",
      "1\n",
      "0\n"
     ]
    }
   ],
   "source": [
    "#print('1' // '1') -- string operations except addition will not work\n",
    "print(1//2)\n",
    "print(12//2)\n",
    "print(11//3)\n",
    "print(True//True)\n",
    "#print(True//False) - 1//0 does not work due to infinity\n",
    "print(False//True)"
   ]
  },
  {
   "cell_type": "code",
   "execution_count": 30,
   "metadata": {},
   "outputs": [
    {
     "name": "stdout",
     "output_type": "stream",
     "text": [
      "1\n",
      "0.5\n",
      "-2\n",
      "0.8027415617602307\n",
      "1.2457309396155174\n",
      "4096\n",
      "144\n",
      "1\n",
      "1\n",
      "0\n"
     ]
    }
   ],
   "source": [
    "# print('1' ** '1') -- string operations except addition will not work\n",
    "print(1**2)\n",
    "print(2**-1) # 1/2\n",
    "print(-2**1) # -2 to the power 1 \n",
    "print(3**-0.2) # 0.2/3  \n",
    "print(3**0.2) \n",
    "print(2**12) # 2 /to the power of 12\n",
    "print(12**2) # 12 to the power of 2\n",
    "print(True**True)\n",
    "print(True**False)\n",
    "print(False**True)"
   ]
  },
  {
   "cell_type": "markdown",
   "metadata": {},
   "source": [
    "## <a id='toc1_2_'></a>[Mathematic methods](#toc0_)\n",
    "\n",
    "- abs(number)\n",
    "- round(number)\n",
    "- pow(base, exponent)"
   ]
  },
  {
   "cell_type": "markdown",
   "metadata": {},
   "source": [
    "### <a id='toc1_2_1_'></a>[abs(number)](#toc0_)"
   ]
  },
  {
   "cell_type": "code",
   "execution_count": 21,
   "metadata": {},
   "outputs": [
    {
     "name": "stdout",
     "output_type": "stream",
     "text": [
      "1\n",
      "0\n",
      "0\n",
      "1.1\n",
      "1.1\n",
      "1.2100000000000002\n"
     ]
    }
   ],
   "source": [
    "print(abs(True))\n",
    "print(abs(False))\n",
    "print(abs(0))\n",
    "print(abs(1.1))\n",
    "print(abs(-1.1))\n",
    "print(abs(-1.1 * -1.1))"
   ]
  },
  {
   "cell_type": "markdown",
   "metadata": {},
   "source": [
    "### <a id='toc1_2_2_'></a>[round(number)](#toc0_)"
   ]
  },
  {
   "cell_type": "code",
   "execution_count": 23,
   "metadata": {},
   "outputs": [
    {
     "name": "stdout",
     "output_type": "stream",
     "text": [
      "1\n",
      "0\n",
      "0\n",
      "1\n",
      "-1\n",
      "2\n",
      "-2\n"
     ]
    }
   ],
   "source": [
    "print(round(True))\n",
    "print(round(False))\n",
    "print(round(0))\n",
    "print(round(1.1))\n",
    "print(round(-1.1))\n",
    "print(round(-1.1 * -2.1))\n",
    "print(round(-1.1 * 2.1))"
   ]
  },
  {
   "cell_type": "markdown",
   "metadata": {},
   "source": [
    "### <a id='toc1_2_3_'></a>[pow(base, exponent) [**]](#toc0_)  [&#8593;](#toc0_)"
   ]
  },
  {
   "cell_type": "code",
   "execution_count": 29,
   "metadata": {},
   "outputs": [
    {
     "name": "stdout",
     "output_type": "stream",
     "text": [
      "1\n",
      "0.5\n",
      "-2\n",
      "1.2457309396155174\n",
      "0.8027415617602307\n",
      "4096\n",
      "144\n",
      "1\n",
      "0\n",
      "1\n"
     ]
    }
   ],
   "source": [
    "print(pow(1,2))\n",
    "print(pow(2,-1))\n",
    "print(pow(-2,1))\n",
    "print(pow(3,0.2))\n",
    "print(pow(3,-0.2))\n",
    "print(pow(2,12))\n",
    "print(pow(12,2))\n",
    "print(pow(True,False))\n",
    "print(pow(False,True))\n",
    "print(pow(True,True))"
   ]
  },
  {
   "cell_type": "markdown",
   "metadata": {},
   "source": [
    "## <a id='toc1_3_'></a>[Comparision operators](#toc0_)\n",
    "\n",
    "- Greater than [>]\n",
    "- Less than [<]\n",
    "- Greater than or equal to [>=]\n",
    "- Less than or equal to [<=]\n",
    "- Equal to [==]\n",
    "- Not Equal to [!=]"
   ]
  },
  {
   "cell_type": "markdown",
   "metadata": {},
   "source": [
    "### <a id='toc1_3_1_'></a>[Greater than [>]](#toc0_)  [&#8593;](#toc0_)"
   ]
  },
  {
   "cell_type": "code",
   "execution_count": 31,
   "metadata": {},
   "outputs": [
    {
     "name": "stdout",
     "output_type": "stream",
     "text": [
      "True\n",
      "False\n",
      "True\n",
      "False\n",
      "False\n",
      "True\n",
      "False\n",
      "True\n",
      "True\n",
      "False\n"
     ]
    }
   ],
   "source": [
    "print(1>0)\n",
    "print(1>1.0)\n",
    "print('Hi'>'HI')\n",
    "print('HI'>'HI')\n",
    "print('HI'>'Hi')\n",
    "print(True>0)\n",
    "print(True>2) # True = 1\n",
    "print(True>False)\n",
    "print(1>False)\n",
    "print(-1>False) # False = 0"
   ]
  },
  {
   "cell_type": "markdown",
   "metadata": {},
   "source": [
    "### <a id='toc1_3_2_'></a>[Less than [<]](#toc0_)  [&#8593;](#toc0_)"
   ]
  },
  {
   "cell_type": "code",
   "execution_count": 32,
   "metadata": {},
   "outputs": [
    {
     "name": "stdout",
     "output_type": "stream",
     "text": [
      "False\n",
      "False\n",
      "False\n",
      "False\n",
      "True\n",
      "True\n",
      "True\n",
      "False\n",
      "False\n",
      "True\n"
     ]
    }
   ],
   "source": [
    "print(1<0)\n",
    "print(1<1.0)\n",
    "print('Hi'<'HI')\n",
    "print('HI'>'HI')\n",
    "print('HI'<'Hi')\n",
    "print(True>0)\n",
    "print(True<2) # True = 1\n",
    "print(True<False)\n",
    "print(1<False)\n",
    "print(-1<False) # False = 0"
   ]
  },
  {
   "cell_type": "markdown",
   "metadata": {},
   "source": [
    "### <a id='toc1_3_3_'></a>[Greater than or equal to [>=]](#toc0_)  [&#8593;](#toc0_)"
   ]
  },
  {
   "cell_type": "code",
   "execution_count": 33,
   "metadata": {},
   "outputs": [
    {
     "name": "stdout",
     "output_type": "stream",
     "text": [
      "True\n",
      "True\n",
      "True\n",
      "True\n",
      "False\n",
      "True\n",
      "False\n",
      "True\n",
      "True\n",
      "False\n"
     ]
    }
   ],
   "source": [
    "print(1>=0)\n",
    "print(1>=1.0)\n",
    "print('Hi'>='HI')\n",
    "print('HI'>='HI')\n",
    "print('HI'>='Hi')\n",
    "print(True>=0)\n",
    "print(True>=2) # True = 1\n",
    "print(True>=False)\n",
    "print(1>=False)\n",
    "print(-1>=False) # False = 0"
   ]
  },
  {
   "cell_type": "markdown",
   "metadata": {},
   "source": [
    "### <a id='toc1_3_4_'></a>[Less than or equal to [<=]](#toc0_)  [&#8593;](#toc0_)"
   ]
  },
  {
   "cell_type": "code",
   "execution_count": 34,
   "metadata": {},
   "outputs": [
    {
     "name": "stdout",
     "output_type": "stream",
     "text": [
      "False\n",
      "True\n",
      "False\n",
      "True\n",
      "True\n",
      "True\n",
      "True\n",
      "False\n",
      "False\n",
      "True\n"
     ]
    }
   ],
   "source": [
    "print(1<=0)\n",
    "print(1<=1.0)\n",
    "print('Hi'<='HI')\n",
    "print('HI'>='HI')\n",
    "print('HI'<='Hi')\n",
    "print(True>=0)\n",
    "print(True<=2) # True = 1\n",
    "print(True<=False)\n",
    "print(1<=False)\n",
    "print(-1<=False) # False = 0"
   ]
  },
  {
   "cell_type": "markdown",
   "metadata": {},
   "source": [
    "### <a id='toc1_3_5_'></a>[Equal to [==]](#toc0_)  [&#8593;](#toc0_)"
   ]
  },
  {
   "cell_type": "code",
   "execution_count": 35,
   "metadata": {},
   "outputs": [
    {
     "name": "stdout",
     "output_type": "stream",
     "text": [
      "False\n",
      "True\n",
      "False\n",
      "True\n",
      "False\n",
      "False\n",
      "True\n",
      "False\n",
      "False\n",
      "False\n",
      "True\n",
      "False\n"
     ]
    }
   ],
   "source": [
    "print(1==0)\n",
    "print(1==1.0)\n",
    "print('Hi'=='HI')\n",
    "print('HI'=='HI')\n",
    "print('HI'=='Hi')\n",
    "print(True==0)\n",
    "print(True==1)\n",
    "print(True==2) # True = 1\n",
    "print(True==False)\n",
    "print(1==False)\n",
    "print(0==False)\n",
    "print(-1==False) # False = 0"
   ]
  },
  {
   "cell_type": "markdown",
   "metadata": {},
   "source": [
    "### <a id='toc1_3_6_'></a>[Not Equal to [!=]](#toc0_)  [&#8593;](#toc0_)"
   ]
  },
  {
   "cell_type": "code",
   "execution_count": 38,
   "metadata": {},
   "outputs": [
    {
     "name": "stdout",
     "output_type": "stream",
     "text": [
      "True\n",
      "False\n",
      "True\n",
      "False\n",
      "True\n",
      "True\n",
      "False\n",
      "True\n",
      "True\n",
      "True\n",
      "False\n",
      "True\n"
     ]
    }
   ],
   "source": [
    "print(1!=0)\n",
    "print(1!=1.0)\n",
    "print('Hi'!='HI')\n",
    "print('HI'!='HI')\n",
    "print('HI'!='Hi')\n",
    "print(True!=0)\n",
    "print(True!=1)\n",
    "print(True!=2) # True = 1\n",
    "print(True!=False)\n",
    "print(1!=False)\n",
    "print(0!=False)\n",
    "print(-1!=False) # False = 0\n"
   ]
  },
  {
   "cell_type": "markdown",
   "metadata": {},
   "source": [
    "## <a id='toc1_4_'></a>[Logical operators](#toc0_)\n",
    "\n",
    "- and\n",
    "- or\n",
    "- not"
   ]
  },
  {
   "cell_type": "markdown",
   "metadata": {},
   "source": [
    "### <a id='toc1_4_1_'></a>[and](#toc0_)\n",
    "\n",
    "- Always selects last true value unless it encounters a '0' or 'False'"
   ]
  },
  {
   "cell_type": "code",
   "execution_count": 44,
   "metadata": {},
   "outputs": [
    {
     "name": "stdout",
     "output_type": "stream",
     "text": [
      "False\n",
      "0\n",
      "2\n",
      "2\n",
      "2\n",
      "-2\n",
      "hiiii\n",
      "hiiii\n",
      "0\n"
     ]
    }
   ],
   "source": [
    "print(True and False)\n",
    "print(1 and 0)\n",
    "print(1 and 2)\n",
    "print(12 and 2)\n",
    "print(12 and 2)\n",
    "print(12 and -2)\n",
    "print('hi' and 'hiiii')\n",
    "print('hiiiiiiiiiiii' and 'hiiii')\n",
    "print('hiiiiiiiiiiii' and 0 and 'hiiii') #terminates execution at 0"
   ]
  },
  {
   "cell_type": "markdown",
   "metadata": {},
   "source": [
    "### <a id='toc1_4_2_'></a>[or](#toc0_)\n",
    "\n",
    "- Always selects first true value"
   ]
  },
  {
   "cell_type": "code",
   "execution_count": 46,
   "metadata": {},
   "outputs": [
    {
     "name": "stdout",
     "output_type": "stream",
     "text": [
      "True\n",
      "True\n",
      "1\n",
      "1\n",
      "12\n",
      "12\n",
      "12\n",
      "hi\n",
      "hiiiiiiiiiiii\n",
      "hiiiiiiiiiiii\n"
     ]
    }
   ],
   "source": [
    "print(True or False)\n",
    "print(False or True)\n",
    "print(1 or 0)\n",
    "print(1 or 2)\n",
    "print(12 or 2)\n",
    "print(12 or 2)\n",
    "print(12 or -2)\n",
    "print('hi' or 'hiiii')\n",
    "print('hiiiiiiiiiiii' or 'hiiii')\n",
    "print(0 or 'hiiiiiiiiiiii' or -1 or 'hiiii') #terminates execution at hiiiiiiiiiiii"
   ]
  },
  {
   "cell_type": "markdown",
   "metadata": {},
   "source": [
    "### <a id='toc1_4_3_'></a>[not](#toc0_)\n",
    "\n",
    "- Negates the true to false and viceversa\n",
    "- Always returns a boolean value irrespective of the datatype"
   ]
  },
  {
   "cell_type": "code",
   "execution_count": 50,
   "metadata": {},
   "outputs": [
    {
     "name": "stdout",
     "output_type": "stream",
     "text": [
      "False\n",
      "True\n",
      "False\n",
      "False\n",
      "False\n",
      "False\n",
      "False\n",
      "True\n",
      "False\n",
      "False\n",
      "False\n",
      "False\n",
      "False\n"
     ]
    }
   ],
   "source": [
    "print(not(True))\n",
    "print(not(False))\n",
    "print(not(not(False)))\n",
    "print(not(True or False))\n",
    "print(not(False or True))\n",
    "print(not(1 or 0))\n",
    "print(not(1 or 2))\n",
    "print(not(not(12 or 2)))\n",
    "print(not(12 or 2))\n",
    "print(not(12 or -2))\n",
    "print(not('hi' or 'hiiii'))\n",
    "print(not('hiiiiiiiiiiii' or 'hiiii'))\n",
    "print(not(0 or 'hiiiiiiiiiiii' or -1 or 'hiiii')) #terminates execution at hiiiiiiiiiiii"
   ]
  }
 ],
 "metadata": {
  "kernelspec": {
   "display_name": "Python 3",
   "language": "python",
   "name": "python3"
  },
  "language_info": {
   "codemirror_mode": {
    "name": "ipython",
    "version": 3
   },
   "file_extension": ".py",
   "mimetype": "text/x-python",
   "name": "python",
   "nbconvert_exporter": "python",
   "pygments_lexer": "ipython3",
   "version": "3.12.3"
  }
 },
 "nbformat": 4,
 "nbformat_minor": 2
}
