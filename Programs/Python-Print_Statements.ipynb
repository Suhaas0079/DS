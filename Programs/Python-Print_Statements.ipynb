{
 "cells": [
  {
   "cell_type": "markdown",
   "metadata": {},
   "source": [
    "**Table of contents**<a id='toc0_'></a>    \n",
    "- [Python Basics](#toc1_)    \n",
    "  - [Simple print statement](#toc1_1_)    \n",
    "  - [Print statement with variables](#toc1_2_)    \n",
    "    - [.format()](#toc1_2_1_)    \n",
    "    - [f-string](#toc1_2_2_)    \n",
    "  - [Print statement and its params](#toc1_3_)    \n",
    "    - [end](#toc1_3_1_)    \n",
    "    - [sep](#toc1_3_2_)    \n",
    "    - [flush](#toc1_3_3_)    \n",
    "  - [**io library**: Printing into a temporary file](#toc1_4_)    \n",
    "\n",
    "<!-- vscode-jupyter-toc-config\n",
    "\tnumbering=false\n",
    "\tanchor=true\n",
    "\tflat=false\n",
    "\tminLevel=1\n",
    "\tmaxLevel=6\n",
    "\t/vscode-jupyter-toc-config -->\n",
    "<!-- THIS CELL WILL BE REPLACED ON TOC UPDATE. DO NOT WRITE YOUR TEXT IN THIS CELL -->"
   ]
  },
  {
   "cell_type": "markdown",
   "metadata": {},
   "source": [
    "# <a id='toc1_'></a>[Python Basics](#toc0_)\n"
   ]
  },
  {
   "cell_type": "markdown",
   "metadata": {},
   "source": [
    "\n",
    "## <a id='toc1_1_'></a>[Simple print statement](#toc0_)"
   ]
  },
  {
   "cell_type": "code",
   "execution_count": 1,
   "metadata": {},
   "outputs": [
    {
     "name": "stdout",
     "output_type": "stream",
     "text": [
      "hello\n"
     ]
    }
   ],
   "source": [
    "print(\"hello\")"
   ]
  },
  {
   "cell_type": "markdown",
   "metadata": {},
   "source": [
    "## <a id='toc1_2_'></a>[Print statement with variables](#toc0_)"
   ]
  },
  {
   "cell_type": "markdown",
   "metadata": {},
   "source": [
    "### <a id='toc1_2_1_'></a>[.format()](#toc0_)"
   ]
  },
  {
   "cell_type": "code",
   "execution_count": 26,
   "metadata": {},
   "outputs": [
    {
     "name": "stdout",
     "output_type": "stream",
     "text": [
      "My name is  Ravva \n",
      "My current age is  25\n",
      "Variable A: <class 'str'>, Variable B: <class 'int'>\n",
      "Variable A: <class 'str'>, Variable B: <class 'int'>\n",
      "Hello, My name is Ravva and I'm 25 years old.\n"
     ]
    }
   ],
   "source": [
    "a= \"Ravva\"\n",
    "b= 25\n",
    "\n",
    "print(\"My name is \",a,\"\\nMy current age is \",b)\n",
    "\n",
    "print(\"Variable A: {}, Variable B: {}\".format(type(a),type(b)))\n",
    "\n",
    "print(\"Variable A: {1}, Variable B: {0}\".format(type(b),type(a)))"
   ]
  },
  {
   "cell_type": "markdown",
   "metadata": {},
   "source": [
    "### <a id='toc1_2_2_'></a>[f-string](#toc0_)"
   ]
  },
  {
   "cell_type": "code",
   "execution_count": 27,
   "metadata": {},
   "outputs": [
    {
     "name": "stdout",
     "output_type": "stream",
     "text": [
      "Hello, My name is Ravva and I'm 25 years old.\n"
     ]
    }
   ],
   "source": [
    "print(f\"Hello, My name is {a} and I'm {b} years old.\")"
   ]
  },
  {
   "cell_type": "markdown",
   "metadata": {},
   "source": [
    "## <a id='toc1_3_'></a>[Print statement and its params](#toc0_)"
   ]
  },
  {
   "cell_type": "markdown",
   "metadata": {},
   "source": [
    "### <a id='toc1_3_1_'></a>[end](#toc0_)"
   ]
  },
  {
   "cell_type": "code",
   "execution_count": 22,
   "metadata": {},
   "outputs": [
    {
     "name": "stdout",
     "output_type": "stream",
     "text": [
      "----------------------------\n",
      "My name is  Ravva. My current age is  25\n",
      "----------------------------\n",
      "My name is  Ravva. \n",
      "My current age is  25\n",
      "----------------------------\n",
      "My name is  Ravva. \n",
      "\n",
      "My current age is  25\n",
      "----------------------------\n"
     ]
    }
   ],
   "source": [
    "a= \"Ravva\"\n",
    "b= 25\n",
    "print(\"----------------------------\")\n",
    "print(\"My name is \",a, end=\". \")\n",
    "print(\"My current age is \",b)\n",
    "print(\"----------------------------\")\n",
    "print(\"My name is \",a, end=\". \\n\")\n",
    "print(\"My current age is \",b)\n",
    "print(\"----------------------------\")\n",
    "print(\"My name is \",a, end=\". \\n\\n\")\n",
    "print(\"My current age is \",b)\n",
    "print(\"----------------------------\")"
   ]
  },
  {
   "cell_type": "markdown",
   "metadata": {},
   "source": [
    "### <a id='toc1_3_2_'></a>[sep](#toc0_)"
   ]
  },
  {
   "cell_type": "code",
   "execution_count": 35,
   "metadata": {},
   "outputs": [
    {
     "name": "stdout",
     "output_type": "stream",
     "text": [
      "ABC juice is made up of: apples,beetroot,carrot\n"
     ]
    }
   ],
   "source": [
    "a= 'apples'\n",
    "b= 'beetroot'\n",
    "c= 'carrot'\n",
    "\n",
    "print(f\"ABC juice is made up of: {a}\",b,c,sep=\",\")\n"
   ]
  },
  {
   "cell_type": "markdown",
   "metadata": {},
   "source": [
    "### <a id='toc1_3_3_'></a>[flush](#toc0_)\n",
    "\n",
    "The I/Os in Python are generally buffered, meaning they are used in chunks. This is where flush comes in as it helps users to decide if they need the written content to be buffered or not. By default, it is set to false. If it is set to true, the output will be written as a sequence of characters one after the other. This process is slow simply because it is easier to write in chunks rather than writing one character at a time. To understand the use case of the flush argument in the print() function, let’s take an example.\n",
    "\n",
    "**<i>Note:This effect is not applicable in jupyter notebook</i>**\n",
    "\n",
    "<u>Code 1:</u>\n",
    "The code adds text without a trailing newline and then sleeps for one second after each text addition. At the end of the countdown, it prints Start and terminates the line. If you run the code as it is, it waits for 3 seconds and abruptly prints the entire text at once. This is a waste of 3 seconds caused due to buffering of the text chunk.\n",
    "\n",
    "<u>Code 2:</u>\n",
    "Though buffering serves a purpose, it can result in undesired effects as <b><i>Code 1</i></b>. To counter the same issue, the flush argument is used with the print() function. Now, set the flush argument as true and see the difference."
   ]
  },
  {
   "cell_type": "markdown",
   "metadata": {},
   "source": [
    "**Code 1**"
   ]
  },
  {
   "cell_type": "code",
   "execution_count": 37,
   "metadata": {},
   "outputs": [
    {
     "name": "stdout",
     "output_type": "stream",
     "text": [
      "3>>>2>>>1>>>Start\n"
     ]
    }
   ],
   "source": [
    "import time\n",
    "\n",
    "count_seconds = 3\n",
    "for i in reversed(range(count_seconds + 1)):\n",
    "    if i > 0:\n",
    "        print(i, end='>>>')\n",
    "        time.sleep(1)\n",
    "    else:\n",
    "        print('Start')"
   ]
  },
  {
   "cell_type": "markdown",
   "metadata": {},
   "source": [
    "**Code 2**"
   ]
  },
  {
   "cell_type": "code",
   "execution_count": 38,
   "metadata": {},
   "outputs": [
    {
     "name": "stdout",
     "output_type": "stream",
     "text": [
      "3>>>2>>>1>>>Start\n"
     ]
    }
   ],
   "source": [
    "import time\n",
    "\n",
    "count_seconds = 3\n",
    "for i in reversed(range(count_seconds + 1)):\n",
    "    if i > 0:\n",
    "        print(i, end='>>>', flush = True)\n",
    "        time.sleep(1)\n",
    "    else:\n",
    "        print('Start')"
   ]
  },
  {
   "cell_type": "markdown",
   "metadata": {},
   "source": [
    "## <a id='toc1_4_'></a>[**io library**: Printing into a temporary file](#toc0_)"
   ]
  },
  {
   "cell_type": "code",
   "execution_count": 41,
   "metadata": {},
   "outputs": [
    {
     "name": "stdout",
     "output_type": "stream",
     "text": [
      "Hello Geeks!!\n",
      "\n"
     ]
    }
   ],
   "source": [
    "import io\n",
    "\n",
    "# declare a dummy file\n",
    "dummy_file = io.StringIO()\n",
    "\n",
    "# add message to the dummy file. Note: this does not print in the console\n",
    "print('Hello Geeks!!', file=dummy_file)\n",
    "\n",
    "# get the value from dummy file\n",
    "print(dummy_file.getvalue())"
   ]
  }
 ],
 "metadata": {
  "kernelspec": {
   "display_name": "Python 3",
   "language": "python",
   "name": "python3"
  },
  "language_info": {
   "codemirror_mode": {
    "name": "ipython",
    "version": 3
   },
   "file_extension": ".py",
   "mimetype": "text/x-python",
   "name": "python",
   "nbconvert_exporter": "python",
   "pygments_lexer": "ipython3",
   "version": "3.11.4"
  }
 },
 "nbformat": 4,
 "nbformat_minor": 2
}
